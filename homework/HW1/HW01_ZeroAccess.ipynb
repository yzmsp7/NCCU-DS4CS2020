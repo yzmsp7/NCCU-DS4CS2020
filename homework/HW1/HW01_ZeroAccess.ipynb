{
 "cells": [
  {
   "cell_type": "markdown",
   "metadata": {
    "colab_type": "text",
    "id": "vwXHPmF-3LDk"
   },
   "source": [
    "### ZeroAccess\n",
    "\n",
    "* Where ZeroAccess occurs? Any patterns?\n",
    "* What kind of users are easily to be infected? Does education or income affect infection rate?\n",
    "* Does UFO cause ZeroAccess infection?\n",
    "\n"
   ]
  },
  {
   "cell_type": "code",
   "execution_count": 3,
   "metadata": {
    "colab": {},
    "colab_type": "code",
    "id": "6P_qZp6k3HKr"
   },
   "outputs": [],
   "source": [
    "import numpy as np\n",
    "import pandas as pd\n",
    "import matplotlib.pyplot as plt"
   ]
  },
  {
   "cell_type": "code",
   "execution_count": 4,
   "metadata": {
    "colab": {},
    "colab_type": "code",
    "id": "khUeN5653MbY"
   },
   "outputs": [],
   "source": [
    "z_df = pd.read_csv(\"https://drive.google.com/uc?id=1LRgxN2ArFB82VbqloPyXTKU37gxFM5Hx\") # zeroaccess.csv\n",
    "s_df = pd.read_csv(\"https://drive.google.com/uc?id=1PZgOIwkrISYp8r3xdA-DrWkyOx1TZgy_\") # state-internets.csv\n",
    "c_df = pd.read_csv(\"https://drive.google.com/uc?id=1PsrGcWk0v89Tce8W-LhwMGrdtbFzYeMT\") # county-data.csv"
   ]
  },
  {
   "cell_type": "code",
   "execution_count": 5,
   "metadata": {
    "colab": {
     "base_uri": "https://localhost:8080/",
     "height": 34
    },
    "colab_type": "code",
    "executionInfo": {
     "elapsed": 962,
     "status": "ok",
     "timestamp": 1583413856426,
     "user": {
      "displayName": "Mike Hsiao",
      "photoUrl": "https://lh3.googleusercontent.com/a-/AOh14GjI9xcJoAwBTYXflhzWDz6CleXAscX_B6zAjYPRlCQ=s64",
      "userId": "17174434063503717705"
     },
     "user_tz": -480
    },
    "id": "KTfyxhfARPXS",
    "outputId": "43516d37-b703-4c59-dff5-32126e07c22a"
   },
   "outputs": [
    {
     "name": "stdout",
     "output_type": "stream",
     "text": [
      "(808446, 2) (49, 3) (3072, 6)\n"
     ]
    }
   ],
   "source": [
    "print(z_df.shape, s_df.shape, c_df.shape)"
   ]
  },
  {
   "cell_type": "code",
   "execution_count": 6,
   "metadata": {
    "colab": {
     "base_uri": "https://localhost:8080/",
     "height": 204
    },
    "colab_type": "code",
    "executionInfo": {
     "elapsed": 978,
     "status": "ok",
     "timestamp": 1583413858293,
     "user": {
      "displayName": "Mike Hsiao",
      "photoUrl": "https://lh3.googleusercontent.com/a-/AOh14GjI9xcJoAwBTYXflhzWDz6CleXAscX_B6zAjYPRlCQ=s64",
      "userId": "17174434063503717705"
     },
     "user_tz": -480
    },
    "id": "xxt82bUc9GkC",
    "outputId": "d39d677e-4da6-4cfd-af8f-7da1eeb302e8"
   },
   "outputs": [
    {
     "data": {
      "text/html": [
       "<div>\n",
       "<style scoped>\n",
       "    .dataframe tbody tr th:only-of-type {\n",
       "        vertical-align: middle;\n",
       "    }\n",
       "\n",
       "    .dataframe tbody tr th {\n",
       "        vertical-align: top;\n",
       "    }\n",
       "\n",
       "    .dataframe thead th {\n",
       "        text-align: right;\n",
       "    }\n",
       "</style>\n",
       "<table border=\"1\" class=\"dataframe\">\n",
       "  <thead>\n",
       "    <tr style=\"text-align: right;\">\n",
       "      <th></th>\n",
       "      <th>lat</th>\n",
       "      <th>long</th>\n",
       "    </tr>\n",
       "  </thead>\n",
       "  <tbody>\n",
       "    <tr>\n",
       "      <th>0</th>\n",
       "      <td>-10.0000</td>\n",
       "      <td>-55.0000</td>\n",
       "    </tr>\n",
       "    <tr>\n",
       "      <th>1</th>\n",
       "      <td>38.0888</td>\n",
       "      <td>-78.5592</td>\n",
       "    </tr>\n",
       "    <tr>\n",
       "      <th>2</th>\n",
       "      <td>38.9990</td>\n",
       "      <td>-84.6266</td>\n",
       "    </tr>\n",
       "    <tr>\n",
       "      <th>3</th>\n",
       "      <td>48.6210</td>\n",
       "      <td>7.4944</td>\n",
       "    </tr>\n",
       "    <tr>\n",
       "      <th>4</th>\n",
       "      <td>43.2342</td>\n",
       "      <td>-86.2484</td>\n",
       "    </tr>\n",
       "  </tbody>\n",
       "</table>\n",
       "</div>"
      ],
      "text/plain": [
       "       lat     long\n",
       "0 -10.0000 -55.0000\n",
       "1  38.0888 -78.5592\n",
       "2  38.9990 -84.6266\n",
       "3  48.6210   7.4944\n",
       "4  43.2342 -86.2484"
      ]
     },
     "execution_count": 6,
     "metadata": {},
     "output_type": "execute_result"
    }
   ],
   "source": [
    "z_df.head()"
   ]
  },
  {
   "cell_type": "code",
   "execution_count": 7,
   "metadata": {
    "colab": {
     "base_uri": "https://localhost:8080/",
     "height": 204
    },
    "colab_type": "code",
    "executionInfo": {
     "elapsed": 1116,
     "status": "ok",
     "timestamp": 1583413864176,
     "user": {
      "displayName": "Mike Hsiao",
      "photoUrl": "https://lh3.googleusercontent.com/a-/AOh14GjI9xcJoAwBTYXflhzWDz6CleXAscX_B6zAjYPRlCQ=s64",
      "userId": "17174434063503717705"
     },
     "user_tz": -480
    },
    "id": "NY2WEyPS9LJw",
    "outputId": "65e1bb0f-2161-4866-ec13-072745cdbe70"
   },
   "outputs": [
    {
     "data": {
      "text/html": [
       "<div>\n",
       "<style scoped>\n",
       "    .dataframe tbody tr th:only-of-type {\n",
       "        vertical-align: middle;\n",
       "    }\n",
       "\n",
       "    .dataframe tbody tr th {\n",
       "        vertical-align: top;\n",
       "    }\n",
       "\n",
       "    .dataframe thead th {\n",
       "        text-align: right;\n",
       "    }\n",
       "</style>\n",
       "<table border=\"1\" class=\"dataframe\">\n",
       "  <thead>\n",
       "    <tr style=\"text-align: right;\">\n",
       "      <th></th>\n",
       "      <th>state</th>\n",
       "      <th>population</th>\n",
       "      <th>internet</th>\n",
       "    </tr>\n",
       "  </thead>\n",
       "  <tbody>\n",
       "    <tr>\n",
       "      <th>0</th>\n",
       "      <td>Alabama</td>\n",
       "      <td>4758191</td>\n",
       "      <td>3092273</td>\n",
       "    </tr>\n",
       "    <tr>\n",
       "      <th>1</th>\n",
       "      <td>Arizona</td>\n",
       "      <td>6665093</td>\n",
       "      <td>5230474</td>\n",
       "    </tr>\n",
       "    <tr>\n",
       "      <th>2</th>\n",
       "      <td>Arkansas</td>\n",
       "      <td>2919815</td>\n",
       "      <td>1949869</td>\n",
       "    </tr>\n",
       "    <tr>\n",
       "      <th>3</th>\n",
       "      <td>California</td>\n",
       "      <td>37350092</td>\n",
       "      <td>29758896</td>\n",
       "    </tr>\n",
       "    <tr>\n",
       "      <th>4</th>\n",
       "      <td>Colorado</td>\n",
       "      <td>5077553</td>\n",
       "      <td>4058749</td>\n",
       "    </tr>\n",
       "  </tbody>\n",
       "</table>\n",
       "</div>"
      ],
      "text/plain": [
       "        state  population  internet\n",
       "0     Alabama     4758191   3092273\n",
       "1     Arizona     6665093   5230474\n",
       "2    Arkansas     2919815   1949869\n",
       "3  California    37350092  29758896\n",
       "4    Colorado     5077553   4058749"
      ]
     },
     "execution_count": 7,
     "metadata": {},
     "output_type": "execute_result"
    }
   ],
   "source": [
    "s_df.head()"
   ]
  },
  {
   "cell_type": "code",
   "execution_count": 8,
   "metadata": {
    "colab": {
     "base_uri": "https://localhost:8080/",
     "height": 204
    },
    "colab_type": "code",
    "executionInfo": {
     "elapsed": 625,
     "status": "ok",
     "timestamp": 1583413865814,
     "user": {
      "displayName": "Mike Hsiao",
      "photoUrl": "https://lh3.googleusercontent.com/a-/AOh14GjI9xcJoAwBTYXflhzWDz6CleXAscX_B6zAjYPRlCQ=s64",
      "userId": "17174434063503717705"
     },
     "user_tz": -480
    },
    "id": "GqHPplqe9LS3",
    "outputId": "88452842-826e-48bc-b507-cfdad07c3e01"
   },
   "outputs": [
    {
     "data": {
      "text/html": [
       "<div>\n",
       "<style scoped>\n",
       "    .dataframe tbody tr th:only-of-type {\n",
       "        vertical-align: middle;\n",
       "    }\n",
       "\n",
       "    .dataframe tbody tr th {\n",
       "        vertical-align: top;\n",
       "    }\n",
       "\n",
       "    .dataframe thead th {\n",
       "        text-align: right;\n",
       "    }\n",
       "</style>\n",
       "<table border=\"1\" class=\"dataframe\">\n",
       "  <thead>\n",
       "    <tr style=\"text-align: right;\">\n",
       "      <th></th>\n",
       "      <th>subregion</th>\n",
       "      <th>region</th>\n",
       "      <th>pop</th>\n",
       "      <th>income</th>\n",
       "      <th>ipaddr</th>\n",
       "      <th>ufo2010</th>\n",
       "    </tr>\n",
       "  </thead>\n",
       "  <tbody>\n",
       "    <tr>\n",
       "      <th>0</th>\n",
       "      <td>abbeville</td>\n",
       "      <td>south carolina</td>\n",
       "      <td>25101</td>\n",
       "      <td>34670</td>\n",
       "      <td>30330</td>\n",
       "      <td>2</td>\n",
       "    </tr>\n",
       "    <tr>\n",
       "      <th>1</th>\n",
       "      <td>acadia</td>\n",
       "      <td>louisiana</td>\n",
       "      <td>61912</td>\n",
       "      <td>37970</td>\n",
       "      <td>38203</td>\n",
       "      <td>6</td>\n",
       "    </tr>\n",
       "    <tr>\n",
       "      <th>2</th>\n",
       "      <td>accomack</td>\n",
       "      <td>virginia</td>\n",
       "      <td>33341</td>\n",
       "      <td>41595</td>\n",
       "      <td>41338</td>\n",
       "      <td>2</td>\n",
       "    </tr>\n",
       "    <tr>\n",
       "      <th>3</th>\n",
       "      <td>ada</td>\n",
       "      <td>idaho</td>\n",
       "      <td>409061</td>\n",
       "      <td>55304</td>\n",
       "      <td>1035427</td>\n",
       "      <td>59</td>\n",
       "    </tr>\n",
       "    <tr>\n",
       "      <th>4</th>\n",
       "      <td>adair</td>\n",
       "      <td>iowa</td>\n",
       "      <td>7481</td>\n",
       "      <td>47623</td>\n",
       "      <td>3762</td>\n",
       "      <td>0</td>\n",
       "    </tr>\n",
       "  </tbody>\n",
       "</table>\n",
       "</div>"
      ],
      "text/plain": [
       "   subregion          region     pop  income   ipaddr  ufo2010\n",
       "0  abbeville  south carolina   25101   34670    30330        2\n",
       "1     acadia       louisiana   61912   37970    38203        6\n",
       "2   accomack        virginia   33341   41595    41338        2\n",
       "3        ada           idaho  409061   55304  1035427       59\n",
       "4      adair            iowa    7481   47623     3762        0"
      ]
     },
     "execution_count": 8,
     "metadata": {},
     "output_type": "execute_result"
    }
   ],
   "source": [
    "c_df.head()"
   ]
  },
  {
   "cell_type": "code",
   "execution_count": 9,
   "metadata": {
    "colab": {
     "base_uri": "https://localhost:8080/",
     "height": 388
    },
    "colab_type": "code",
    "executionInfo": {
     "elapsed": 5542,
     "status": "ok",
     "timestamp": 1583413874674,
     "user": {
      "displayName": "Mike Hsiao",
      "photoUrl": "https://lh3.googleusercontent.com/a-/AOh14GjI9xcJoAwBTYXflhzWDz6CleXAscX_B6zAjYPRlCQ=s64",
      "userId": "17174434063503717705"
     },
     "user_tz": -480
    },
    "id": "otIwVq6j9PVU",
    "outputId": "4b73414e-34b7-4604-d4ea-34256f945cf3"
   },
   "outputs": [
    {
     "data": {
      "text/plain": [
       "<matplotlib.collections.PathCollection at 0x10a5f0710>"
      ]
     },
     "execution_count": 9,
     "metadata": {},
     "output_type": "execute_result"
    },
    {
     "data": {
      "text/plain": [
       "(-180.0, 180.0)"
      ]
     },
     "execution_count": 9,
     "metadata": {},
     "output_type": "execute_result"
    },
    {
     "data": {
      "text/plain": [
       "(-90.0, 90.0)"
      ]
     },
     "execution_count": 9,
     "metadata": {},
     "output_type": "execute_result"
    },
    {
     "data": {
      "text/plain": [
       "Text(0.5, 0, 'Latitude and longitude')"
      ]
     },
     "execution_count": 9,
     "metadata": {},
     "output_type": "execute_result"
    },
    {
     "data": {
      "text/plain": [
       "Text(0, 0.5, 'Latitude and longitude')"
      ]
     },
     "execution_count": 9,
     "metadata": {},
     "output_type": "execute_result"
    },
    {
     "data": {
      "text/plain": [
       "<matplotlib.legend.Legend at 0x10a5f06d8>"
      ]
     },
     "execution_count": 9,
     "metadata": {},
     "output_type": "execute_result"
    },
    {
     "data": {
      "image/png": "[encoded data removed]",
      "text/plain": [
       "<Figure size 576x432 with 1 Axes>"
      ]
     },
     "metadata": {
      "needs_background": "light"
     },
     "output_type": "display_data"
    }
   ],
   "source": [
    "# plot zeroAccess infection instances on a earth map\n",
    "fig = plt.figure(figsize=(8,6))\n",
    "ax = fig.add_subplot(111)\n",
    "\n",
    "ax.scatter(z_df.long, z_df.lat, alpha = 0.1, s = 1, label = \"zeroAccess\")\n",
    "ax.set_xlim((-180, 180))\n",
    "ax.set_ylim((-90, 90))\n",
    "\n",
    "plt.xlabel(\"Latitude and longitude\")\n",
    "plt.ylabel(\"Latitude and longitude\")\n",
    "plt.legend(loc='upper left')\n",
    "\n",
    "plt.show()"
   ]
  },
  {
   "cell_type": "code",
   "execution_count": 10,
   "metadata": {
    "colab": {
     "base_uri": "https://localhost:8080/",
     "height": 915
    },
    "colab_type": "code",
    "executionInfo": {
     "elapsed": 1668,
     "status": "ok",
     "timestamp": 1583472195194,
     "user": {
      "displayName": "Mike Hsiao",
      "photoUrl": "https://lh3.googleusercontent.com/a-/AOh14GjI9xcJoAwBTYXflhzWDz6CleXAscX_B6zAjYPRlCQ=s64",
      "userId": "17174434063503717705"
     },
     "user_tz": -480
    },
    "id": "vMAwcI3RSdCQ",
    "outputId": "66f4ca7e-5c06-4c8b-c060-15596e70ad02"
   },
   "outputs": [
    {
     "data": {
      "text/plain": [
       "<folium.plugins.heat_map.HeatMap at 0x1186eb978>"
      ]
     },
     "execution_count": 10,
     "metadata": {},
     "output_type": "execute_result"
    },
    {
     "data": {
      "text/html": [
       "<div style=\"width:100%;\"><div style=\"position:relative;width:100%;height:0;padding-bottom:60%;\"><iframe src=\"about:blank\" style=\"position:absolute;width:100%;height:100%;left:0;top:0;border:none !important;\" data-html=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 onload=\"this.contentDocument.open();this.contentDocument.write(atob(this.getAttribute('data-html')));this.contentDocument.close();\" allowfullscreen webkitallowfullscreen mozallowfullscreen></iframe></div></div>"
      ],
      "text/plain": [
       "<folium.folium.Map at 0x1179be668>"
      ]
     },
     "execution_count": 10,
     "metadata": {},
     "output_type": "execute_result"
    }
   ],
   "source": [
    "import folium\n",
    "from folium.plugins import HeatMap\n",
    "mapa = folium.Map(location=(10, 10), zoom_start=1.5, tiles=\"Stamen Toner\", height=\"50%\", width=\"50%\")\n",
    "loc_li = list(zip(list(z_df.lat), (z_df.long)))[:10000] # <--- change data size\n",
    "HeatMap(loc_li, radius=15).add_to(mapa) # <-----------------------change radius\n",
    "mapa"
   ]
  },
  {
   "cell_type": "markdown",
   "metadata": {
    "colab_type": "text",
    "id": "t3JINRshLGwf"
   },
   "source": [
    "### Reverse Geocoding\n",
    "\n"
   ]
  },
  {
   "cell_type": "code",
   "execution_count": 11,
   "metadata": {
    "colab": {},
    "colab_type": "code",
    "id": "F8XHj7UY0Myi"
   },
   "outputs": [
    {
     "name": "stdout",
     "output_type": "stream",
     "text": [
      "Requirement already satisfied: reverse_geocoder in /Users/yuzhe/anaconda3/lib/python3.7/site-packages (1.5.1)\n",
      "Requirement already satisfied: scipy>=0.17.1 in /Users/yuzhe/anaconda3/lib/python3.7/site-packages (from reverse_geocoder) (1.4.1)\n",
      "Requirement already satisfied: numpy>=1.11.0 in /Users/yuzhe/anaconda3/lib/python3.7/site-packages (from reverse_geocoder) (1.16.2)\n"
     ]
    }
   ],
   "source": [
    "!pip install reverse_geocoder"
   ]
  },
  {
   "cell_type": "code",
   "execution_count": 12,
   "metadata": {
    "colab": {},
    "colab_type": "code",
    "id": "zwg7zA--0JEl"
   },
   "outputs": [],
   "source": [
    "import reverse_geocoder\n",
    "\n",
    "# {'lat': '51.51116', 'lon': '-0.18426', 'name': 'Bayswater', \n",
    "#  'admin1': 'England', 'admin2': 'Greater London', 'cc': 'GB'}\n",
    "\n",
    "# batch implementation\n",
    "def rgr_batch(lat_long_df):\n",
    "    cord_li = []\n",
    "    for ind in lat_long_df.index:\n",
    "        cord_li.append((lat_long_df['lat'][ind], lat_long_df['long'][ind]))\n",
    "    result_dict_li = reverse_geocoder.search(cord_li)\n",
    "    return pd.DataFrame(result_dict_li).drop([\"lat\", \"lon\"], axis = 1)"
   ]
  },
  {
   "cell_type": "code",
   "execution_count": 13,
   "metadata": {},
   "outputs": [
    {
     "name": "stdout",
     "output_type": "stream",
     "text": [
      "Loading formatted geocoded file...\n"
     ]
    }
   ],
   "source": [
    "sample_df = z_df.head(50000) # <------ only use some data, because it takes time\n",
    "country_df = rgr_batch(sample_df)"
   ]
  },
  {
   "cell_type": "code",
   "execution_count": 14,
   "metadata": {
    "colab": {
     "base_uri": "https://localhost:8080/",
     "height": 419
    },
    "colab_type": "code",
    "executionInfo": {
     "elapsed": 2548,
     "status": "ok",
     "timestamp": 1583416794652,
     "user": {
      "displayName": "Mike Hsiao",
      "photoUrl": "https://lh3.googleusercontent.com/a-/AOh14GjI9xcJoAwBTYXflhzWDz6CleXAscX_B6zAjYPRlCQ=s64",
      "userId": "17174434063503717705"
     },
     "user_tz": -480
    },
    "id": "HXRMbDJl7dBP",
    "outputId": "dfc1f098-594d-4cc6-ce27-3470fd6e0ed7"
   },
   "outputs": [
    {
     "data": {
      "text/html": [
       "<div>\n",
       "<style scoped>\n",
       "    .dataframe tbody tr th:only-of-type {\n",
       "        vertical-align: middle;\n",
       "    }\n",
       "\n",
       "    .dataframe tbody tr th {\n",
       "        vertical-align: top;\n",
       "    }\n",
       "\n",
       "    .dataframe thead th {\n",
       "        text-align: right;\n",
       "    }\n",
       "</style>\n",
       "<table border=\"1\" class=\"dataframe\">\n",
       "  <thead>\n",
       "    <tr style=\"text-align: right;\">\n",
       "      <th></th>\n",
       "      <th>lat</th>\n",
       "      <th>long</th>\n",
       "      <th>City</th>\n",
       "      <th>State</th>\n",
       "      <th>County</th>\n",
       "      <th>country_code</th>\n",
       "    </tr>\n",
       "  </thead>\n",
       "  <tbody>\n",
       "    <tr>\n",
       "      <th>0</th>\n",
       "      <td>-10.0000</td>\n",
       "      <td>-55.0000</td>\n",
       "      <td>Alta Floresta</td>\n",
       "      <td>Mato Grosso</td>\n",
       "      <td>Alta Floresta</td>\n",
       "      <td>BR</td>\n",
       "    </tr>\n",
       "    <tr>\n",
       "      <th>1</th>\n",
       "      <td>38.0888</td>\n",
       "      <td>-78.5592</td>\n",
       "      <td>Charlottesville</td>\n",
       "      <td>Virginia</td>\n",
       "      <td>City of Charlottesville</td>\n",
       "      <td>US</td>\n",
       "    </tr>\n",
       "    <tr>\n",
       "      <th>2</th>\n",
       "      <td>38.9990</td>\n",
       "      <td>-84.6266</td>\n",
       "      <td>Florence</td>\n",
       "      <td>Kentucky</td>\n",
       "      <td>Boone County</td>\n",
       "      <td>US</td>\n",
       "    </tr>\n",
       "    <tr>\n",
       "      <th>3</th>\n",
       "      <td>48.6210</td>\n",
       "      <td>7.4944</td>\n",
       "      <td>Marlenheim</td>\n",
       "      <td>Alsace</td>\n",
       "      <td>Departement du Bas-Rhin</td>\n",
       "      <td>FR</td>\n",
       "    </tr>\n",
       "    <tr>\n",
       "      <th>4</th>\n",
       "      <td>43.2342</td>\n",
       "      <td>-86.2484</td>\n",
       "      <td>Muskegon</td>\n",
       "      <td>Michigan</td>\n",
       "      <td>Muskegon County</td>\n",
       "      <td>US</td>\n",
       "    </tr>\n",
       "    <tr>\n",
       "      <th>...</th>\n",
       "      <td>...</td>\n",
       "      <td>...</td>\n",
       "      <td>...</td>\n",
       "      <td>...</td>\n",
       "      <td>...</td>\n",
       "      <td>...</td>\n",
       "    </tr>\n",
       "    <tr>\n",
       "      <th>49995</th>\n",
       "      <td>53.1271</td>\n",
       "      <td>18.0200</td>\n",
       "      <td>Bydgoszcz</td>\n",
       "      <td>Kujawsko-Pomorskie</td>\n",
       "      <td>Bydgoszcz</td>\n",
       "      <td>PL</td>\n",
       "    </tr>\n",
       "    <tr>\n",
       "      <th>49996</th>\n",
       "      <td>42.6757</td>\n",
       "      <td>-82.7773</td>\n",
       "      <td>New Baltimore</td>\n",
       "      <td>Michigan</td>\n",
       "      <td>Macomb County</td>\n",
       "      <td>US</td>\n",
       "    </tr>\n",
       "    <tr>\n",
       "      <th>49997</th>\n",
       "      <td>43.5417</td>\n",
       "      <td>21.7078</td>\n",
       "      <td>Aleksinac</td>\n",
       "      <td>Central Serbia</td>\n",
       "      <td>Nisavski Okrug</td>\n",
       "      <td>RS</td>\n",
       "    </tr>\n",
       "    <tr>\n",
       "      <th>49998</th>\n",
       "      <td>28.2397</td>\n",
       "      <td>-82.7388</td>\n",
       "      <td>New Port Richey</td>\n",
       "      <td>Florida</td>\n",
       "      <td>Pasco County</td>\n",
       "      <td>US</td>\n",
       "    </tr>\n",
       "    <tr>\n",
       "      <th>49999</th>\n",
       "      <td>29.7633</td>\n",
       "      <td>-95.3633</td>\n",
       "      <td>Houston</td>\n",
       "      <td>Texas</td>\n",
       "      <td>Harris County</td>\n",
       "      <td>US</td>\n",
       "    </tr>\n",
       "  </tbody>\n",
       "</table>\n",
       "<p>50000 rows × 6 columns</p>\n",
       "</div>"
      ],
      "text/plain": [
       "           lat     long             City               State  \\\n",
       "0     -10.0000 -55.0000    Alta Floresta         Mato Grosso   \n",
       "1      38.0888 -78.5592  Charlottesville            Virginia   \n",
       "2      38.9990 -84.6266         Florence            Kentucky   \n",
       "3      48.6210   7.4944       Marlenheim              Alsace   \n",
       "4      43.2342 -86.2484         Muskegon            Michigan   \n",
       "...        ...      ...              ...                 ...   \n",
       "49995  53.1271  18.0200        Bydgoszcz  Kujawsko-Pomorskie   \n",
       "49996  42.6757 -82.7773    New Baltimore            Michigan   \n",
       "49997  43.5417  21.7078        Aleksinac      Central Serbia   \n",
       "49998  28.2397 -82.7388  New Port Richey             Florida   \n",
       "49999  29.7633 -95.3633          Houston               Texas   \n",
       "\n",
       "                        County country_code  \n",
       "0                Alta Floresta           BR  \n",
       "1      City of Charlottesville           US  \n",
       "2                 Boone County           US  \n",
       "3      Departement du Bas-Rhin           FR  \n",
       "4              Muskegon County           US  \n",
       "...                        ...          ...  \n",
       "49995                Bydgoszcz           PL  \n",
       "49996            Macomb County           US  \n",
       "49997           Nisavski Okrug           RS  \n",
       "49998             Pasco County           US  \n",
       "49999            Harris County           US  \n",
       "\n",
       "[50000 rows x 6 columns]"
      ]
     },
     "execution_count": 14,
     "metadata": {},
     "output_type": "execute_result"
    }
   ],
   "source": [
    "# batch implementation\n",
    "sample_df = z_df.head(50000) # <------ only use some data, because it takes time\n",
    "country_df = rgr_batch(sample_df)\n",
    "df = sample_df.join(country_df).rename(columns={'name':'City', 'admin1': 'State', 'admin2':'County', 'cc':\"country_code\", })\n",
    "df"
   ]
  },
  {
   "cell_type": "markdown",
   "metadata": {
    "colab_type": "text",
    "id": "iwf53CNmRw6d"
   },
   "source": [
    "### Question #1:\n",
    "Plot a figure to show # of attack in each country"
   ]
  },
  {
   "cell_type": "code",
   "execution_count": 15,
   "metadata": {},
   "outputs": [
    {
     "data": {
      "text/plain": [
       "<Figure size 576x1152 with 0 Axes>"
      ]
     },
     "execution_count": 15,
     "metadata": {},
     "output_type": "execute_result"
    },
    {
     "data": {
      "text/plain": [
       "<BarContainer object of 183 artists>"
      ]
     },
     "execution_count": 15,
     "metadata": {},
     "output_type": "execute_result"
    },
    {
     "data": {
      "image/png": "[encoded data removed]",
      "text/plain": [
       "<Figure size 576x1152 with 1 Axes>"
      ]
     },
     "metadata": {
      "needs_background": "light"
     },
     "output_type": "display_data"
    }
   ],
   "source": [
    "country_num = df.groupby(['country_code']).size().sort_values()\n",
    "\n",
    "plt.figure(figsize=(8,16))\n",
    "plt.barh(country_num.index, country_num.values, height=0.6)\n",
    "plt.show()"
   ]
  },
  {
   "cell_type": "markdown",
   "metadata": {
    "colab_type": "text",
    "id": "FpINsluQUANo"
   },
   "source": [
    "### Question #2:\n",
    "\n",
    "Plot a figure to show % of attack in each country\n",
    "Ignore countries that are < 1%"
   ]
  },
  {
   "cell_type": "code",
   "execution_count": 16,
   "metadata": {},
   "outputs": [
    {
     "data": {
      "text/plain": [
       "<Figure size 1152x216 with 0 Axes>"
      ]
     },
     "execution_count": 16,
     "metadata": {},
     "output_type": "execute_result"
    },
    {
     "data": {
      "text/plain": [
       "<BarContainer object of 13 artists>"
      ]
     },
     "execution_count": 16,
     "metadata": {},
     "output_type": "execute_result"
    },
    {
     "data": {
      "text/plain": [
       "([0, 1, 2, 3, 4, 5, 6, 7, 8, 9, 10, 11, 12],\n",
       " <a list of 13 Text major ticklabel objects>)"
      ]
     },
     "execution_count": 16,
     "metadata": {},
     "output_type": "execute_result"
    },
    {
     "data": {
      "image/png": "[encoded data removed]",
      "text/plain": [
       "<Figure size 1152x216 with 1 Axes>"
      ]
     },
     "metadata": {
      "needs_background": "light"
     },
     "output_type": "display_data"
    }
   ],
   "source": [
    "country_counts = df['country_code'].value_counts(normalize=True)\n",
    "country_counts = country_counts[country_counts.values > 0.01]\n",
    "\n",
    "plt.figure(figsize=(16,3))\n",
    "plt.bar(country_counts.index, country_counts.values, width=0.6)\n",
    "plt.xticks(rotation='vertical')\n",
    "plt.show()"
   ]
  },
  {
   "cell_type": "code",
   "execution_count": 17,
   "metadata": {
    "colab": {
     "base_uri": "https://localhost:8080/",
     "height": 218
    },
    "colab_type": "code",
    "executionInfo": {
     "elapsed": 948,
     "status": "ok",
     "timestamp": 1583416805980,
     "user": {
      "displayName": "Mike Hsiao",
      "photoUrl": "https://lh3.googleusercontent.com/a-/AOh14GjI9xcJoAwBTYXflhzWDz6CleXAscX_B6zAjYPRlCQ=s64",
      "userId": "17174434063503717705"
     },
     "user_tz": -480
    },
    "id": "dxe8unoXUg55",
    "outputId": "13af90df-8111-4264-9745-beddd359ece0"
   },
   "outputs": [],
   "source": [
    "# how to add space between bars"
   ]
  },
  {
   "cell_type": "code",
   "execution_count": 18,
   "metadata": {
    "colab": {
     "base_uri": "https://localhost:8080/",
     "height": 255
    },
    "colab_type": "code",
    "executionInfo": {
     "elapsed": 947,
     "status": "ok",
     "timestamp": 1583416739350,
     "user": {
      "displayName": "Mike Hsiao",
      "photoUrl": "https://lh3.googleusercontent.com/a-/AOh14GjI9xcJoAwBTYXflhzWDz6CleXAscX_B6zAjYPRlCQ=s64",
      "userId": "17174434063503717705"
     },
     "user_tz": -480
    },
    "id": "-_UZvnusVF3N",
    "outputId": "289623e1-781c-4969-f81e-5cd16aaa2026"
   },
   "outputs": [
    {
     "data": {
      "text/plain": [
       "US    0.47974\n",
       "CA    0.05932\n",
       "GB    0.05128\n",
       "JP    0.03008\n",
       "AU    0.03002\n",
       "IT    0.02964\n",
       "DE    0.02824\n",
       "FR    0.02622\n",
       "BR    0.01928\n",
       "IN    0.01496\n",
       "PL    0.01154\n",
       "PK    0.01096\n",
       "TR    0.01052\n",
       "Name: country_code, dtype: float64"
      ]
     },
     "execution_count": 18,
     "metadata": {},
     "output_type": "execute_result"
    }
   ],
   "source": [
    "country_counts"
   ]
  },
  {
   "cell_type": "markdown",
   "metadata": {
    "colab_type": "text",
    "id": "oPEDpHxzVqfN"
   },
   "source": [
    "### Question #3:\n",
    "\n",
    "Only show US data and map.\n",
    "Show US state data.\n",
    "\n",
    "Which state/ciry has severe attack? Why?\n",
    "\n",
    "Hint: recall a network tool named 'whois' ...\n"
   ]
  },
  {
   "cell_type": "code",
   "execution_count": 19,
   "metadata": {
    "colab": {
     "base_uri": "https://localhost:8080/",
     "height": 419
    },
    "colab_type": "code",
    "executionInfo": {
     "elapsed": 1090,
     "status": "ok",
     "timestamp": 1583416815225,
     "user": {
      "displayName": "Mike Hsiao",
      "photoUrl": "https://lh3.googleusercontent.com/a-/AOh14GjI9xcJoAwBTYXflhzWDz6CleXAscX_B6zAjYPRlCQ=s64",
      "userId": "17174434063503717705"
     },
     "user_tz": -480
    },
    "id": "eqt_bX5RVpQD",
    "outputId": "60899f95-e71e-4403-cc63-882da3602d90"
   },
   "outputs": [
    {
     "data": {
      "text/html": [
       "<div>\n",
       "<style scoped>\n",
       "    .dataframe tbody tr th:only-of-type {\n",
       "        vertical-align: middle;\n",
       "    }\n",
       "\n",
       "    .dataframe tbody tr th {\n",
       "        vertical-align: top;\n",
       "    }\n",
       "\n",
       "    .dataframe thead th {\n",
       "        text-align: right;\n",
       "    }\n",
       "</style>\n",
       "<table border=\"1\" class=\"dataframe\">\n",
       "  <thead>\n",
       "    <tr style=\"text-align: right;\">\n",
       "      <th></th>\n",
       "      <th>lat</th>\n",
       "      <th>long</th>\n",
       "      <th>City</th>\n",
       "      <th>State</th>\n",
       "      <th>County</th>\n",
       "      <th>country_code</th>\n",
       "    </tr>\n",
       "  </thead>\n",
       "  <tbody>\n",
       "    <tr>\n",
       "      <th>1</th>\n",
       "      <td>38.0888</td>\n",
       "      <td>-78.5592</td>\n",
       "      <td>Charlottesville</td>\n",
       "      <td>Virginia</td>\n",
       "      <td>City of Charlottesville</td>\n",
       "      <td>US</td>\n",
       "    </tr>\n",
       "    <tr>\n",
       "      <th>2</th>\n",
       "      <td>38.9990</td>\n",
       "      <td>-84.6266</td>\n",
       "      <td>Florence</td>\n",
       "      <td>Kentucky</td>\n",
       "      <td>Boone County</td>\n",
       "      <td>US</td>\n",
       "    </tr>\n",
       "    <tr>\n",
       "      <th>4</th>\n",
       "      <td>43.2342</td>\n",
       "      <td>-86.2484</td>\n",
       "      <td>Muskegon</td>\n",
       "      <td>Michigan</td>\n",
       "      <td>Muskegon County</td>\n",
       "      <td>US</td>\n",
       "    </tr>\n",
       "    <tr>\n",
       "      <th>6</th>\n",
       "      <td>44.8012</td>\n",
       "      <td>-68.7778</td>\n",
       "      <td>Bangor</td>\n",
       "      <td>Maine</td>\n",
       "      <td>Penobscot County</td>\n",
       "      <td>US</td>\n",
       "    </tr>\n",
       "    <tr>\n",
       "      <th>8</th>\n",
       "      <td>36.0580</td>\n",
       "      <td>-88.8253</td>\n",
       "      <td>Bradford</td>\n",
       "      <td>Tennessee</td>\n",
       "      <td>Gibson County</td>\n",
       "      <td>US</td>\n",
       "    </tr>\n",
       "  </tbody>\n",
       "</table>\n",
       "</div>"
      ],
      "text/plain": [
       "       lat     long             City      State                   County  \\\n",
       "1  38.0888 -78.5592  Charlottesville   Virginia  City of Charlottesville   \n",
       "2  38.9990 -84.6266         Florence   Kentucky             Boone County   \n",
       "4  43.2342 -86.2484         Muskegon   Michigan          Muskegon County   \n",
       "6  44.8012 -68.7778           Bangor      Maine         Penobscot County   \n",
       "8  36.0580 -88.8253         Bradford  Tennessee            Gibson County   \n",
       "\n",
       "  country_code  \n",
       "1           US  \n",
       "2           US  \n",
       "4           US  \n",
       "6           US  \n",
       "8           US  "
      ]
     },
     "execution_count": 19,
     "metadata": {},
     "output_type": "execute_result"
    }
   ],
   "source": [
    "us_df = df[df['country_code'] == 'US']\n",
    "us_df.head()"
   ]
  },
  {
   "cell_type": "code",
   "execution_count": 20,
   "metadata": {},
   "outputs": [
    {
     "data": {
      "text/plain": [
       "<matplotlib.collections.PathCollection at 0x11a822d68>"
      ]
     },
     "execution_count": 20,
     "metadata": {},
     "output_type": "execute_result"
    },
    {
     "data": {
      "image/png": "[encoded data removed]",
      "text/plain": [
       "<Figure size 576x432 with 1 Axes>"
      ]
     },
     "metadata": {
      "needs_background": "light"
     },
     "output_type": "display_data"
    }
   ],
   "source": [
    "# plot zeroAccess infection instances on a earth map\n",
    "fig = plt.figure(figsize=(8,6))\n",
    "ax = fig.add_subplot(111)\n",
    "\n",
    "ax.scatter(us_df.long, us_df.lat, alpha = 0.1, s = 1)\n",
    "plt.show()"
   ]
  },
  {
   "cell_type": "code",
   "execution_count": 21,
   "metadata": {
    "colab": {
     "base_uri": "https://localhost:8080/",
     "height": 901
    },
    "colab_type": "code",
    "executionInfo": {
     "elapsed": 1026,
     "status": "ok",
     "timestamp": 1583417592525,
     "user": {
      "displayName": "Mike Hsiao",
      "photoUrl": "https://lh3.googleusercontent.com/a-/AOh14GjI9xcJoAwBTYXflhzWDz6CleXAscX_B6zAjYPRlCQ=s64",
      "userId": "17174434063503717705"
     },
     "user_tz": -480
    },
    "id": "wX_PLlCDW91s",
    "outputId": "1a19299f-98d8-411d-b0d2-30a0b5647732"
   },
   "outputs": [
    {
     "data": {
      "text/plain": [
       "England          2297\n",
       "California       2293\n",
       "Texas            2003\n",
       "Florida          1425\n",
       "Kansas           1371\n",
       "                 ... \n",
       "Grad Zagreb        31\n",
       "Calabria           31\n",
       "Northern Cape      31\n",
       "Shizuoka           31\n",
       "Vermont            31\n",
       "Name: State, Length: 215, dtype: int64"
      ]
     },
     "execution_count": 21,
     "metadata": {},
     "output_type": "execute_result"
    }
   ],
   "source": [
    "df.State.value_counts()[df.State.value_counts()>30]"
   ]
  },
  {
   "cell_type": "code",
   "execution_count": 22,
   "metadata": {
    "colab": {
     "base_uri": "https://localhost:8080/",
     "height": 238
    },
    "colab_type": "code",
    "executionInfo": {
     "elapsed": 1177,
     "status": "ok",
     "timestamp": 1583418415755,
     "user": {
      "displayName": "Mike Hsiao",
      "photoUrl": "https://lh3.googleusercontent.com/a-/AOh14GjI9xcJoAwBTYXflhzWDz6CleXAscX_B6zAjYPRlCQ=s64",
      "userId": "17174434063503717705"
     },
     "user_tz": -480
    },
    "id": "6OccAPH9FArJ",
    "outputId": "148084bb-ac62-412d-a3b5-13eaec6c5b1a"
   },
   "outputs": [
    {
     "data": {
      "text/plain": [
       "State          City            \n",
       "Kansas         Peabody             1152\n",
       "England        London               453\n",
       "Tokyo          Tokyo                427\n",
       "Islamabad      Islamabad            319\n",
       "England        City of London       300\n",
       "                                   ... \n",
       "Piedmont       Settimo Torinese       1\n",
       "Kentucky       Tompkinsville          1\n",
       "               Valley Station         1\n",
       "               Van Lear               1\n",
       "Midi-Pyrenees  Montbeton              1\n",
       "Length: 13138, dtype: int64"
      ]
     },
     "execution_count": 22,
     "metadata": {},
     "output_type": "execute_result"
    }
   ],
   "source": [
    "df.groupby(['State', 'City']).size().sort_values(ascending=False)"
   ]
  },
  {
   "cell_type": "markdown",
   "metadata": {
    "colab_type": "text",
    "id": "RD-eH2s6bw5N"
   },
   "source": [
    "### Question #4:\n",
    "\n",
    "Is there anything wrong with these states?"
   ]
  },
  {
   "cell_type": "code",
   "execution_count": 24,
   "metadata": {},
   "outputs": [
    {
     "data": {
      "text/plain": [
       "State\n",
       "California          2293\n",
       "Texas               2003\n",
       "Florida             1425\n",
       "Kansas              1371\n",
       "New York            1315\n",
       "Pennsylvania         970\n",
       "Illinois             948\n",
       "Ohio                 914\n",
       "Georgia              841\n",
       "North Carolina       759\n",
       "Michigan             715\n",
       "New Jersey           669\n",
       "Virginia             526\n",
       "Arizona              503\n",
       "Washington           502\n",
       "Missouri             480\n",
       "Wisconsin            472\n",
       "Indiana              458\n",
       "Massachusetts        453\n",
       "Maryland             430\n",
       "Tennessee            425\n",
       "Alabama              412\n",
       "Minnesota            405\n",
       "Colorado             394\n",
       "South Carolina       386\n",
       "Kentucky             373\n",
       "Louisiana            366\n",
       "Oklahoma             293\n",
       "Arkansas             262\n",
       "Mississippi          241\n",
       "Oregon               235\n",
       "Iowa                 228\n",
       "Connecticut          226\n",
       "Nevada               187\n",
       "Utah                 164\n",
       "West Virginia        161\n",
       "Nebraska             144\n",
       "New Mexico           133\n",
       "Maine                113\n",
       "Idaho                 99\n",
       "New Hampshire         98\n",
       "Montana               83\n",
       "Rhode Island          77\n",
       "Hawaii                73\n",
       "South Dakota          69\n",
       "Delaware              68\n",
       "Washington, D.C.      57\n",
       "North Dakota          53\n",
       "Alaska                46\n",
       "Wyoming               38\n",
       "Vermont               31\n",
       "dtype: int64"
      ]
     },
     "execution_count": 24,
     "metadata": {},
     "output_type": "execute_result"
    }
   ],
   "source": [
    "us_count = us_df.groupby('State').size().sort_values(ascending=False).reset_index()\n",
    "us_count.columns = ['state','attack']\n",
    "us_df.groupby('State').size().sort_values(ascending=False)"
   ]
  },
  {
   "cell_type": "code",
   "execution_count": 25,
   "metadata": {
    "colab": {
     "base_uri": "https://localhost:8080/",
     "height": 1000
    },
    "colab_type": "code",
    "executionInfo": {
     "elapsed": 943,
     "status": "ok",
     "timestamp": 1583418955129,
     "user": {
      "displayName": "Mike Hsiao",
      "photoUrl": "https://lh3.googleusercontent.com/a-/AOh14GjI9xcJoAwBTYXflhzWDz6CleXAscX_B6zAjYPRlCQ=s64",
      "userId": "17174434063503717705"
     },
     "user_tz": -480
    },
    "id": "amIlsd_QjoEK",
    "outputId": "9204aec1-5494-4d7a-ed0a-196c350951db"
   },
   "outputs": [
    {
     "data": {
      "text/html": [
       "<div>\n",
       "<style scoped>\n",
       "    .dataframe tbody tr th:only-of-type {\n",
       "        vertical-align: middle;\n",
       "    }\n",
       "\n",
       "    .dataframe tbody tr th {\n",
       "        vertical-align: top;\n",
       "    }\n",
       "\n",
       "    .dataframe thead th {\n",
       "        text-align: right;\n",
       "    }\n",
       "</style>\n",
       "<table border=\"1\" class=\"dataframe\">\n",
       "  <thead>\n",
       "    <tr style=\"text-align: right;\">\n",
       "      <th></th>\n",
       "      <th>state</th>\n",
       "      <th>attack</th>\n",
       "      <th>att_pc</th>\n",
       "    </tr>\n",
       "  </thead>\n",
       "  <tbody>\n",
       "    <tr>\n",
       "      <th>0</th>\n",
       "      <td>California</td>\n",
       "      <td>2293</td>\n",
       "      <td>0.095593</td>\n",
       "    </tr>\n",
       "    <tr>\n",
       "      <th>1</th>\n",
       "      <td>Texas</td>\n",
       "      <td>2003</td>\n",
       "      <td>0.083504</td>\n",
       "    </tr>\n",
       "    <tr>\n",
       "      <th>2</th>\n",
       "      <td>Florida</td>\n",
       "      <td>1425</td>\n",
       "      <td>0.059407</td>\n",
       "    </tr>\n",
       "    <tr>\n",
       "      <th>3</th>\n",
       "      <td>Kansas</td>\n",
       "      <td>1371</td>\n",
       "      <td>0.057156</td>\n",
       "    </tr>\n",
       "    <tr>\n",
       "      <th>4</th>\n",
       "      <td>New York</td>\n",
       "      <td>1315</td>\n",
       "      <td>0.054821</td>\n",
       "    </tr>\n",
       "    <tr>\n",
       "      <th>5</th>\n",
       "      <td>Pennsylvania</td>\n",
       "      <td>970</td>\n",
       "      <td>0.040439</td>\n",
       "    </tr>\n",
       "    <tr>\n",
       "      <th>6</th>\n",
       "      <td>Illinois</td>\n",
       "      <td>948</td>\n",
       "      <td>0.039521</td>\n",
       "    </tr>\n",
       "    <tr>\n",
       "      <th>7</th>\n",
       "      <td>Ohio</td>\n",
       "      <td>914</td>\n",
       "      <td>0.038104</td>\n",
       "    </tr>\n",
       "    <tr>\n",
       "      <th>8</th>\n",
       "      <td>Georgia</td>\n",
       "      <td>841</td>\n",
       "      <td>0.035061</td>\n",
       "    </tr>\n",
       "    <tr>\n",
       "      <th>9</th>\n",
       "      <td>North Carolina</td>\n",
       "      <td>759</td>\n",
       "      <td>0.031642</td>\n",
       "    </tr>\n",
       "    <tr>\n",
       "      <th>10</th>\n",
       "      <td>Michigan</td>\n",
       "      <td>715</td>\n",
       "      <td>0.029808</td>\n",
       "    </tr>\n",
       "    <tr>\n",
       "      <th>11</th>\n",
       "      <td>New Jersey</td>\n",
       "      <td>669</td>\n",
       "      <td>0.027890</td>\n",
       "    </tr>\n",
       "    <tr>\n",
       "      <th>12</th>\n",
       "      <td>Virginia</td>\n",
       "      <td>526</td>\n",
       "      <td>0.021929</td>\n",
       "    </tr>\n",
       "    <tr>\n",
       "      <th>13</th>\n",
       "      <td>Arizona</td>\n",
       "      <td>503</td>\n",
       "      <td>0.020970</td>\n",
       "    </tr>\n",
       "    <tr>\n",
       "      <th>14</th>\n",
       "      <td>Washington</td>\n",
       "      <td>502</td>\n",
       "      <td>0.020928</td>\n",
       "    </tr>\n",
       "    <tr>\n",
       "      <th>15</th>\n",
       "      <td>Missouri</td>\n",
       "      <td>480</td>\n",
       "      <td>0.020011</td>\n",
       "    </tr>\n",
       "    <tr>\n",
       "      <th>16</th>\n",
       "      <td>Wisconsin</td>\n",
       "      <td>472</td>\n",
       "      <td>0.019677</td>\n",
       "    </tr>\n",
       "    <tr>\n",
       "      <th>17</th>\n",
       "      <td>Indiana</td>\n",
       "      <td>458</td>\n",
       "      <td>0.019094</td>\n",
       "    </tr>\n",
       "    <tr>\n",
       "      <th>18</th>\n",
       "      <td>Massachusetts</td>\n",
       "      <td>453</td>\n",
       "      <td>0.018885</td>\n",
       "    </tr>\n",
       "    <tr>\n",
       "      <th>19</th>\n",
       "      <td>Maryland</td>\n",
       "      <td>430</td>\n",
       "      <td>0.017926</td>\n",
       "    </tr>\n",
       "    <tr>\n",
       "      <th>20</th>\n",
       "      <td>Tennessee</td>\n",
       "      <td>425</td>\n",
       "      <td>0.017718</td>\n",
       "    </tr>\n",
       "    <tr>\n",
       "      <th>21</th>\n",
       "      <td>Alabama</td>\n",
       "      <td>412</td>\n",
       "      <td>0.017176</td>\n",
       "    </tr>\n",
       "    <tr>\n",
       "      <th>22</th>\n",
       "      <td>Minnesota</td>\n",
       "      <td>405</td>\n",
       "      <td>0.016884</td>\n",
       "    </tr>\n",
       "    <tr>\n",
       "      <th>23</th>\n",
       "      <td>Colorado</td>\n",
       "      <td>394</td>\n",
       "      <td>0.016426</td>\n",
       "    </tr>\n",
       "    <tr>\n",
       "      <th>24</th>\n",
       "      <td>South Carolina</td>\n",
       "      <td>386</td>\n",
       "      <td>0.016092</td>\n",
       "    </tr>\n",
       "    <tr>\n",
       "      <th>25</th>\n",
       "      <td>Kentucky</td>\n",
       "      <td>373</td>\n",
       "      <td>0.015550</td>\n",
       "    </tr>\n",
       "    <tr>\n",
       "      <th>26</th>\n",
       "      <td>Louisiana</td>\n",
       "      <td>366</td>\n",
       "      <td>0.015258</td>\n",
       "    </tr>\n",
       "    <tr>\n",
       "      <th>27</th>\n",
       "      <td>Oklahoma</td>\n",
       "      <td>293</td>\n",
       "      <td>0.012215</td>\n",
       "    </tr>\n",
       "    <tr>\n",
       "      <th>28</th>\n",
       "      <td>Arkansas</td>\n",
       "      <td>262</td>\n",
       "      <td>0.010923</td>\n",
       "    </tr>\n",
       "    <tr>\n",
       "      <th>29</th>\n",
       "      <td>Mississippi</td>\n",
       "      <td>241</td>\n",
       "      <td>0.010047</td>\n",
       "    </tr>\n",
       "    <tr>\n",
       "      <th>30</th>\n",
       "      <td>Oregon</td>\n",
       "      <td>235</td>\n",
       "      <td>0.009797</td>\n",
       "    </tr>\n",
       "    <tr>\n",
       "      <th>31</th>\n",
       "      <td>Iowa</td>\n",
       "      <td>228</td>\n",
       "      <td>0.009505</td>\n",
       "    </tr>\n",
       "    <tr>\n",
       "      <th>32</th>\n",
       "      <td>Connecticut</td>\n",
       "      <td>226</td>\n",
       "      <td>0.009422</td>\n",
       "    </tr>\n",
       "    <tr>\n",
       "      <th>33</th>\n",
       "      <td>Nevada</td>\n",
       "      <td>187</td>\n",
       "      <td>0.007796</td>\n",
       "    </tr>\n",
       "    <tr>\n",
       "      <th>34</th>\n",
       "      <td>Utah</td>\n",
       "      <td>164</td>\n",
       "      <td>0.006837</td>\n",
       "    </tr>\n",
       "    <tr>\n",
       "      <th>35</th>\n",
       "      <td>West Virginia</td>\n",
       "      <td>161</td>\n",
       "      <td>0.006712</td>\n",
       "    </tr>\n",
       "    <tr>\n",
       "      <th>36</th>\n",
       "      <td>Nebraska</td>\n",
       "      <td>144</td>\n",
       "      <td>0.006003</td>\n",
       "    </tr>\n",
       "    <tr>\n",
       "      <th>37</th>\n",
       "      <td>New Mexico</td>\n",
       "      <td>133</td>\n",
       "      <td>0.005545</td>\n",
       "    </tr>\n",
       "    <tr>\n",
       "      <th>38</th>\n",
       "      <td>Maine</td>\n",
       "      <td>113</td>\n",
       "      <td>0.004711</td>\n",
       "    </tr>\n",
       "    <tr>\n",
       "      <th>39</th>\n",
       "      <td>Idaho</td>\n",
       "      <td>99</td>\n",
       "      <td>0.004127</td>\n",
       "    </tr>\n",
       "    <tr>\n",
       "      <th>40</th>\n",
       "      <td>New Hampshire</td>\n",
       "      <td>98</td>\n",
       "      <td>0.004086</td>\n",
       "    </tr>\n",
       "    <tr>\n",
       "      <th>41</th>\n",
       "      <td>Montana</td>\n",
       "      <td>83</td>\n",
       "      <td>0.003460</td>\n",
       "    </tr>\n",
       "    <tr>\n",
       "      <th>42</th>\n",
       "      <td>Rhode Island</td>\n",
       "      <td>77</td>\n",
       "      <td>0.003210</td>\n",
       "    </tr>\n",
       "    <tr>\n",
       "      <th>43</th>\n",
       "      <td>Hawaii</td>\n",
       "      <td>73</td>\n",
       "      <td>0.003043</td>\n",
       "    </tr>\n",
       "    <tr>\n",
       "      <th>44</th>\n",
       "      <td>South Dakota</td>\n",
       "      <td>69</td>\n",
       "      <td>0.002877</td>\n",
       "    </tr>\n",
       "    <tr>\n",
       "      <th>45</th>\n",
       "      <td>Delaware</td>\n",
       "      <td>68</td>\n",
       "      <td>0.002835</td>\n",
       "    </tr>\n",
       "    <tr>\n",
       "      <th>46</th>\n",
       "      <td>Washington, D.C.</td>\n",
       "      <td>57</td>\n",
       "      <td>0.002376</td>\n",
       "    </tr>\n",
       "    <tr>\n",
       "      <th>47</th>\n",
       "      <td>North Dakota</td>\n",
       "      <td>53</td>\n",
       "      <td>0.002210</td>\n",
       "    </tr>\n",
       "    <tr>\n",
       "      <th>48</th>\n",
       "      <td>Alaska</td>\n",
       "      <td>46</td>\n",
       "      <td>0.001918</td>\n",
       "    </tr>\n",
       "    <tr>\n",
       "      <th>49</th>\n",
       "      <td>Wyoming</td>\n",
       "      <td>38</td>\n",
       "      <td>0.001584</td>\n",
       "    </tr>\n",
       "    <tr>\n",
       "      <th>50</th>\n",
       "      <td>Vermont</td>\n",
       "      <td>31</td>\n",
       "      <td>0.001292</td>\n",
       "    </tr>\n",
       "  </tbody>\n",
       "</table>\n",
       "</div>"
      ],
      "text/plain": [
       "               state  attack    att_pc\n",
       "0         California    2293  0.095593\n",
       "1              Texas    2003  0.083504\n",
       "2            Florida    1425  0.059407\n",
       "3             Kansas    1371  0.057156\n",
       "4           New York    1315  0.054821\n",
       "5       Pennsylvania     970  0.040439\n",
       "6           Illinois     948  0.039521\n",
       "7               Ohio     914  0.038104\n",
       "8            Georgia     841  0.035061\n",
       "9     North Carolina     759  0.031642\n",
       "10          Michigan     715  0.029808\n",
       "11        New Jersey     669  0.027890\n",
       "12          Virginia     526  0.021929\n",
       "13           Arizona     503  0.020970\n",
       "14        Washington     502  0.020928\n",
       "15          Missouri     480  0.020011\n",
       "16         Wisconsin     472  0.019677\n",
       "17           Indiana     458  0.019094\n",
       "18     Massachusetts     453  0.018885\n",
       "19          Maryland     430  0.017926\n",
       "20         Tennessee     425  0.017718\n",
       "21           Alabama     412  0.017176\n",
       "22         Minnesota     405  0.016884\n",
       "23          Colorado     394  0.016426\n",
       "24    South Carolina     386  0.016092\n",
       "25          Kentucky     373  0.015550\n",
       "26         Louisiana     366  0.015258\n",
       "27          Oklahoma     293  0.012215\n",
       "28          Arkansas     262  0.010923\n",
       "29       Mississippi     241  0.010047\n",
       "30            Oregon     235  0.009797\n",
       "31              Iowa     228  0.009505\n",
       "32       Connecticut     226  0.009422\n",
       "33            Nevada     187  0.007796\n",
       "34              Utah     164  0.006837\n",
       "35     West Virginia     161  0.006712\n",
       "36          Nebraska     144  0.006003\n",
       "37        New Mexico     133  0.005545\n",
       "38             Maine     113  0.004711\n",
       "39             Idaho      99  0.004127\n",
       "40     New Hampshire      98  0.004086\n",
       "41           Montana      83  0.003460\n",
       "42      Rhode Island      77  0.003210\n",
       "43            Hawaii      73  0.003043\n",
       "44      South Dakota      69  0.002877\n",
       "45          Delaware      68  0.002835\n",
       "46  Washington, D.C.      57  0.002376\n",
       "47      North Dakota      53  0.002210\n",
       "48            Alaska      46  0.001918\n",
       "49           Wyoming      38  0.001584\n",
       "50           Vermont      31  0.001292"
      ]
     },
     "execution_count": 25,
     "metadata": {},
     "output_type": "execute_result"
    }
   ],
   "source": [
    "us_count['att_pc'] = us_count['attack']/us_count.attack.sum()\n",
    "us_count"
   ]
  },
  {
   "cell_type": "markdown",
   "metadata": {
    "colab_type": "text",
    "id": "HA6jhGaWkfCN"
   },
   "source": [
    "### Question #5:\n",
    "\n",
    "Are the attack occurances in each state related to state population?\n",
    "\n",
    "Try a bar chart!"
   ]
  },
  {
   "cell_type": "code",
   "execution_count": null,
   "metadata": {},
   "outputs": [],
   "source": [
    "x = np.arange(10)\n",
    "ax1 = plt.subplot(1,1,1)\n",
    "w = 0.3\n",
    "#plt.xticks(), will label the bars on x axis with the respective country names.\n",
    "plt.xticks(x + w /2, datasort['country'], rotation='vertical')\n",
    "pop =ax1.bar(x, datasort['population']/ 10 ** 6, width=w, color='b', align='center')\n",
    "#The trick is to use two different axes that share the same x axis, we have used ax1.twinx() method.\n",
    "ax2 = ax1.twinx()\n",
    "#We have calculated GDP by dividing gdpPerCapita to population.\n",
    "gdp =ax2.bar(x + w, datasort['gdpPerCapita'] * datasort.population / 10**9, width=w,color='g',align='center')\n",
    "#Set the Y axis label as GDP.\n",
    "plt.ylabel('GDP')\n",
    "#To set the legend on the plot we have used plt.legend()\n",
    "plt.legend([pop, gdp],['Population in Millions', 'GDP in Billions'])\n",
    "#To show the plot finally we have used plt.show().\n",
    "plt.show()"
   ]
  },
  {
   "cell_type": "code",
   "execution_count": 126,
   "metadata": {
    "colab": {
     "base_uri": "https://localhost:8080/",
     "height": 288
    },
    "colab_type": "code",
    "executionInfo": {
     "elapsed": 1946,
     "status": "ok",
     "timestamp": 1583420318635,
     "user": {
      "displayName": "Mike Hsiao",
      "photoUrl": "https://lh3.googleusercontent.com/a-/AOh14GjI9xcJoAwBTYXflhzWDz6CleXAscX_B6zAjYPRlCQ=s64",
      "userId": "17174434063503717705"
     },
     "user_tz": -480
    },
    "id": "wx-8i75uosK8",
    "outputId": "93858d4d-be60-4e06-ad1a-81af77254009"
   },
   "outputs": [
    {
     "data": {
      "text/plain": [
       "<BarContainer object of 51 artists>"
      ]
     },
     "execution_count": 126,
     "metadata": {},
     "output_type": "execute_result"
    },
    {
     "data": {
      "text/plain": [
       "<BarContainer object of 51 artists>"
      ]
     },
     "execution_count": 126,
     "metadata": {},
     "output_type": "execute_result"
    },
    {
     "data": {
      "image/png": "[encoded data removed]",
      "text/plain": [
       "<Figure size 1080x432 with 1 Axes>"
      ]
     },
     "metadata": {
      "needs_background": "light"
     },
     "output_type": "display_data"
    }
   ],
   "source": [
    "fig = plt.figure(figsize=(15,6))\n",
    "ax = fig.add_subplot(111)\n",
    "\n",
    "ax.bar(us_count['state'], us_count['attack'], width=0.4, color='b',align='center')\n",
    "ax2 = ax1.twinx()\n",
    "ax2.bar(us_count['state'], us_count['att_pc'], width=0.4, color='g',align='center')\n",
    "_ = plt.xticks(rotation='vertical')\n",
    "# ax.bar(us_count['state'], us_count[], width=0.2, align='center')"
   ]
  },
  {
   "cell_type": "markdown",
   "metadata": {
    "colab_type": "text",
    "id": "xuShiiIOtCDf"
   },
   "source": [
    "### UFO?\n",
    "\n",
    "Try to use county-data.csv data to predict the attack counts for each state by liner regression.\n",
    "\n",
    "Which feature is the best?"
   ]
  },
  {
   "cell_type": "code",
   "execution_count": 127,
   "metadata": {},
   "outputs": [
    {
     "data": {
      "text/html": [
       "<div>\n",
       "<style scoped>\n",
       "    .dataframe tbody tr th:only-of-type {\n",
       "        vertical-align: middle;\n",
       "    }\n",
       "\n",
       "    .dataframe tbody tr th {\n",
       "        vertical-align: top;\n",
       "    }\n",
       "\n",
       "    .dataframe thead th {\n",
       "        text-align: right;\n",
       "    }\n",
       "</style>\n",
       "<table border=\"1\" class=\"dataframe\">\n",
       "  <thead>\n",
       "    <tr style=\"text-align: right;\">\n",
       "      <th></th>\n",
       "      <th>subregion</th>\n",
       "      <th>region</th>\n",
       "      <th>pop</th>\n",
       "      <th>income</th>\n",
       "      <th>ipaddr</th>\n",
       "      <th>ufo2010</th>\n",
       "    </tr>\n",
       "  </thead>\n",
       "  <tbody>\n",
       "    <tr>\n",
       "      <th>0</th>\n",
       "      <td>abbeville</td>\n",
       "      <td>south carolina</td>\n",
       "      <td>25101</td>\n",
       "      <td>34670</td>\n",
       "      <td>30330</td>\n",
       "      <td>2</td>\n",
       "    </tr>\n",
       "    <tr>\n",
       "      <th>1</th>\n",
       "      <td>acadia</td>\n",
       "      <td>louisiana</td>\n",
       "      <td>61912</td>\n",
       "      <td>37970</td>\n",
       "      <td>38203</td>\n",
       "      <td>6</td>\n",
       "    </tr>\n",
       "    <tr>\n",
       "      <th>2</th>\n",
       "      <td>accomack</td>\n",
       "      <td>virginia</td>\n",
       "      <td>33341</td>\n",
       "      <td>41595</td>\n",
       "      <td>41338</td>\n",
       "      <td>2</td>\n",
       "    </tr>\n",
       "    <tr>\n",
       "      <th>3</th>\n",
       "      <td>ada</td>\n",
       "      <td>idaho</td>\n",
       "      <td>409061</td>\n",
       "      <td>55304</td>\n",
       "      <td>1035427</td>\n",
       "      <td>59</td>\n",
       "    </tr>\n",
       "    <tr>\n",
       "      <th>4</th>\n",
       "      <td>adair</td>\n",
       "      <td>iowa</td>\n",
       "      <td>7481</td>\n",
       "      <td>47623</td>\n",
       "      <td>3762</td>\n",
       "      <td>0</td>\n",
       "    </tr>\n",
       "    <tr>\n",
       "      <th>...</th>\n",
       "      <td>...</td>\n",
       "      <td>...</td>\n",
       "      <td>...</td>\n",
       "      <td>...</td>\n",
       "      <td>...</td>\n",
       "      <td>...</td>\n",
       "    </tr>\n",
       "    <tr>\n",
       "      <th>3067</th>\n",
       "      <td>yuma</td>\n",
       "      <td>arizona</td>\n",
       "      <td>200022</td>\n",
       "      <td>41441</td>\n",
       "      <td>99991</td>\n",
       "      <td>53</td>\n",
       "    </tr>\n",
       "    <tr>\n",
       "      <th>3068</th>\n",
       "      <td>yuma</td>\n",
       "      <td>colorado</td>\n",
       "      <td>10119</td>\n",
       "      <td>44991</td>\n",
       "      <td>7662</td>\n",
       "      <td>1</td>\n",
       "    </tr>\n",
       "    <tr>\n",
       "      <th>3069</th>\n",
       "      <td>zapata</td>\n",
       "      <td>texas</td>\n",
       "      <td>14290</td>\n",
       "      <td>26009</td>\n",
       "      <td>3833</td>\n",
       "      <td>0</td>\n",
       "    </tr>\n",
       "    <tr>\n",
       "      <th>3070</th>\n",
       "      <td>zavala</td>\n",
       "      <td>texas</td>\n",
       "      <td>11961</td>\n",
       "      <td>23952</td>\n",
       "      <td>545</td>\n",
       "      <td>1</td>\n",
       "    </tr>\n",
       "    <tr>\n",
       "      <th>3071</th>\n",
       "      <td>ziebach</td>\n",
       "      <td>south dakota</td>\n",
       "      <td>2869</td>\n",
       "      <td>27917</td>\n",
       "      <td>1277</td>\n",
       "      <td>0</td>\n",
       "    </tr>\n",
       "  </tbody>\n",
       "</table>\n",
       "<p>3072 rows × 6 columns</p>\n",
       "</div>"
      ],
      "text/plain": [
       "      subregion          region     pop  income   ipaddr  ufo2010\n",
       "0     abbeville  south carolina   25101   34670    30330        2\n",
       "1        acadia       louisiana   61912   37970    38203        6\n",
       "2      accomack        virginia   33341   41595    41338        2\n",
       "3           ada           idaho  409061   55304  1035427       59\n",
       "4         adair            iowa    7481   47623     3762        0\n",
       "...         ...             ...     ...     ...      ...      ...\n",
       "3067       yuma         arizona  200022   41441    99991       53\n",
       "3068       yuma        colorado   10119   44991     7662        1\n",
       "3069     zapata           texas   14290   26009     3833        0\n",
       "3070     zavala           texas   11961   23952      545        1\n",
       "3071    ziebach    south dakota    2869   27917     1277        0\n",
       "\n",
       "[3072 rows x 6 columns]"
      ]
     },
     "execution_count": 127,
     "metadata": {},
     "output_type": "execute_result"
    }
   ],
   "source": [
    "c_df"
   ]
  },
  {
   "cell_type": "code",
   "execution_count": 128,
   "metadata": {
    "colab": {
     "base_uri": "https://localhost:8080/",
     "height": 1000
    },
    "colab_type": "code",
    "executionInfo": {
     "elapsed": 1425,
     "status": "ok",
     "timestamp": 1583421490236,
     "user": {
      "displayName": "Mike Hsiao",
      "photoUrl": "https://lh3.googleusercontent.com/a-/AOh14GjI9xcJoAwBTYXflhzWDz6CleXAscX_B6zAjYPRlCQ=s64",
      "userId": "17174434063503717705"
     },
     "user_tz": -480
    },
    "id": "3GkK1AmxtEzh",
    "outputId": "a17f38ab-da88-478d-8158-5ce897db6f64"
   },
   "outputs": [
    {
     "data": {
      "text/html": [
       "<div>\n",
       "<style scoped>\n",
       "    .dataframe tbody tr th:only-of-type {\n",
       "        vertical-align: middle;\n",
       "    }\n",
       "\n",
       "    .dataframe tbody tr th {\n",
       "        vertical-align: top;\n",
       "    }\n",
       "\n",
       "    .dataframe thead th {\n",
       "        text-align: right;\n",
       "    }\n",
       "</style>\n",
       "<table border=\"1\" class=\"dataframe\">\n",
       "  <thead>\n",
       "    <tr style=\"text-align: right;\">\n",
       "      <th></th>\n",
       "      <th>state</th>\n",
       "      <th>attack</th>\n",
       "      <th>att_pc</th>\n",
       "    </tr>\n",
       "  </thead>\n",
       "  <tbody>\n",
       "    <tr>\n",
       "      <th>0</th>\n",
       "      <td>California</td>\n",
       "      <td>2293</td>\n",
       "      <td>0.095593</td>\n",
       "    </tr>\n",
       "    <tr>\n",
       "      <th>1</th>\n",
       "      <td>Texas</td>\n",
       "      <td>2003</td>\n",
       "      <td>0.083504</td>\n",
       "    </tr>\n",
       "    <tr>\n",
       "      <th>2</th>\n",
       "      <td>Florida</td>\n",
       "      <td>1425</td>\n",
       "      <td>0.059407</td>\n",
       "    </tr>\n",
       "    <tr>\n",
       "      <th>3</th>\n",
       "      <td>Kansas</td>\n",
       "      <td>1371</td>\n",
       "      <td>0.057156</td>\n",
       "    </tr>\n",
       "    <tr>\n",
       "      <th>4</th>\n",
       "      <td>New York</td>\n",
       "      <td>1315</td>\n",
       "      <td>0.054821</td>\n",
       "    </tr>\n",
       "    <tr>\n",
       "      <th>5</th>\n",
       "      <td>Pennsylvania</td>\n",
       "      <td>970</td>\n",
       "      <td>0.040439</td>\n",
       "    </tr>\n",
       "    <tr>\n",
       "      <th>6</th>\n",
       "      <td>Illinois</td>\n",
       "      <td>948</td>\n",
       "      <td>0.039521</td>\n",
       "    </tr>\n",
       "    <tr>\n",
       "      <th>7</th>\n",
       "      <td>Ohio</td>\n",
       "      <td>914</td>\n",
       "      <td>0.038104</td>\n",
       "    </tr>\n",
       "    <tr>\n",
       "      <th>8</th>\n",
       "      <td>Georgia</td>\n",
       "      <td>841</td>\n",
       "      <td>0.035061</td>\n",
       "    </tr>\n",
       "    <tr>\n",
       "      <th>9</th>\n",
       "      <td>North Carolina</td>\n",
       "      <td>759</td>\n",
       "      <td>0.031642</td>\n",
       "    </tr>\n",
       "    <tr>\n",
       "      <th>10</th>\n",
       "      <td>Michigan</td>\n",
       "      <td>715</td>\n",
       "      <td>0.029808</td>\n",
       "    </tr>\n",
       "    <tr>\n",
       "      <th>11</th>\n",
       "      <td>New Jersey</td>\n",
       "      <td>669</td>\n",
       "      <td>0.027890</td>\n",
       "    </tr>\n",
       "    <tr>\n",
       "      <th>12</th>\n",
       "      <td>Virginia</td>\n",
       "      <td>526</td>\n",
       "      <td>0.021929</td>\n",
       "    </tr>\n",
       "    <tr>\n",
       "      <th>13</th>\n",
       "      <td>Arizona</td>\n",
       "      <td>503</td>\n",
       "      <td>0.020970</td>\n",
       "    </tr>\n",
       "    <tr>\n",
       "      <th>14</th>\n",
       "      <td>Washington</td>\n",
       "      <td>502</td>\n",
       "      <td>0.020928</td>\n",
       "    </tr>\n",
       "    <tr>\n",
       "      <th>15</th>\n",
       "      <td>Missouri</td>\n",
       "      <td>480</td>\n",
       "      <td>0.020011</td>\n",
       "    </tr>\n",
       "    <tr>\n",
       "      <th>16</th>\n",
       "      <td>Wisconsin</td>\n",
       "      <td>472</td>\n",
       "      <td>0.019677</td>\n",
       "    </tr>\n",
       "    <tr>\n",
       "      <th>17</th>\n",
       "      <td>Indiana</td>\n",
       "      <td>458</td>\n",
       "      <td>0.019094</td>\n",
       "    </tr>\n",
       "    <tr>\n",
       "      <th>18</th>\n",
       "      <td>Massachusetts</td>\n",
       "      <td>453</td>\n",
       "      <td>0.018885</td>\n",
       "    </tr>\n",
       "    <tr>\n",
       "      <th>19</th>\n",
       "      <td>Maryland</td>\n",
       "      <td>430</td>\n",
       "      <td>0.017926</td>\n",
       "    </tr>\n",
       "    <tr>\n",
       "      <th>20</th>\n",
       "      <td>Tennessee</td>\n",
       "      <td>425</td>\n",
       "      <td>0.017718</td>\n",
       "    </tr>\n",
       "    <tr>\n",
       "      <th>21</th>\n",
       "      <td>Alabama</td>\n",
       "      <td>412</td>\n",
       "      <td>0.017176</td>\n",
       "    </tr>\n",
       "    <tr>\n",
       "      <th>22</th>\n",
       "      <td>Minnesota</td>\n",
       "      <td>405</td>\n",
       "      <td>0.016884</td>\n",
       "    </tr>\n",
       "    <tr>\n",
       "      <th>23</th>\n",
       "      <td>Colorado</td>\n",
       "      <td>394</td>\n",
       "      <td>0.016426</td>\n",
       "    </tr>\n",
       "    <tr>\n",
       "      <th>24</th>\n",
       "      <td>South Carolina</td>\n",
       "      <td>386</td>\n",
       "      <td>0.016092</td>\n",
       "    </tr>\n",
       "    <tr>\n",
       "      <th>25</th>\n",
       "      <td>Kentucky</td>\n",
       "      <td>373</td>\n",
       "      <td>0.015550</td>\n",
       "    </tr>\n",
       "    <tr>\n",
       "      <th>26</th>\n",
       "      <td>Louisiana</td>\n",
       "      <td>366</td>\n",
       "      <td>0.015258</td>\n",
       "    </tr>\n",
       "    <tr>\n",
       "      <th>27</th>\n",
       "      <td>Oklahoma</td>\n",
       "      <td>293</td>\n",
       "      <td>0.012215</td>\n",
       "    </tr>\n",
       "    <tr>\n",
       "      <th>28</th>\n",
       "      <td>Arkansas</td>\n",
       "      <td>262</td>\n",
       "      <td>0.010923</td>\n",
       "    </tr>\n",
       "    <tr>\n",
       "      <th>29</th>\n",
       "      <td>Mississippi</td>\n",
       "      <td>241</td>\n",
       "      <td>0.010047</td>\n",
       "    </tr>\n",
       "    <tr>\n",
       "      <th>30</th>\n",
       "      <td>Oregon</td>\n",
       "      <td>235</td>\n",
       "      <td>0.009797</td>\n",
       "    </tr>\n",
       "    <tr>\n",
       "      <th>31</th>\n",
       "      <td>Iowa</td>\n",
       "      <td>228</td>\n",
       "      <td>0.009505</td>\n",
       "    </tr>\n",
       "    <tr>\n",
       "      <th>32</th>\n",
       "      <td>Connecticut</td>\n",
       "      <td>226</td>\n",
       "      <td>0.009422</td>\n",
       "    </tr>\n",
       "    <tr>\n",
       "      <th>33</th>\n",
       "      <td>Nevada</td>\n",
       "      <td>187</td>\n",
       "      <td>0.007796</td>\n",
       "    </tr>\n",
       "    <tr>\n",
       "      <th>34</th>\n",
       "      <td>Utah</td>\n",
       "      <td>164</td>\n",
       "      <td>0.006837</td>\n",
       "    </tr>\n",
       "    <tr>\n",
       "      <th>35</th>\n",
       "      <td>West Virginia</td>\n",
       "      <td>161</td>\n",
       "      <td>0.006712</td>\n",
       "    </tr>\n",
       "    <tr>\n",
       "      <th>36</th>\n",
       "      <td>Nebraska</td>\n",
       "      <td>144</td>\n",
       "      <td>0.006003</td>\n",
       "    </tr>\n",
       "    <tr>\n",
       "      <th>37</th>\n",
       "      <td>New Mexico</td>\n",
       "      <td>133</td>\n",
       "      <td>0.005545</td>\n",
       "    </tr>\n",
       "    <tr>\n",
       "      <th>38</th>\n",
       "      <td>Maine</td>\n",
       "      <td>113</td>\n",
       "      <td>0.004711</td>\n",
       "    </tr>\n",
       "    <tr>\n",
       "      <th>39</th>\n",
       "      <td>Idaho</td>\n",
       "      <td>99</td>\n",
       "      <td>0.004127</td>\n",
       "    </tr>\n",
       "    <tr>\n",
       "      <th>40</th>\n",
       "      <td>New Hampshire</td>\n",
       "      <td>98</td>\n",
       "      <td>0.004086</td>\n",
       "    </tr>\n",
       "    <tr>\n",
       "      <th>41</th>\n",
       "      <td>Montana</td>\n",
       "      <td>83</td>\n",
       "      <td>0.003460</td>\n",
       "    </tr>\n",
       "    <tr>\n",
       "      <th>42</th>\n",
       "      <td>Rhode Island</td>\n",
       "      <td>77</td>\n",
       "      <td>0.003210</td>\n",
       "    </tr>\n",
       "    <tr>\n",
       "      <th>43</th>\n",
       "      <td>Hawaii</td>\n",
       "      <td>73</td>\n",
       "      <td>0.003043</td>\n",
       "    </tr>\n",
       "    <tr>\n",
       "      <th>44</th>\n",
       "      <td>South Dakota</td>\n",
       "      <td>69</td>\n",
       "      <td>0.002877</td>\n",
       "    </tr>\n",
       "    <tr>\n",
       "      <th>45</th>\n",
       "      <td>Delaware</td>\n",
       "      <td>68</td>\n",
       "      <td>0.002835</td>\n",
       "    </tr>\n",
       "    <tr>\n",
       "      <th>46</th>\n",
       "      <td>Washington, D.C.</td>\n",
       "      <td>57</td>\n",
       "      <td>0.002376</td>\n",
       "    </tr>\n",
       "    <tr>\n",
       "      <th>47</th>\n",
       "      <td>North Dakota</td>\n",
       "      <td>53</td>\n",
       "      <td>0.002210</td>\n",
       "    </tr>\n",
       "    <tr>\n",
       "      <th>48</th>\n",
       "      <td>Alaska</td>\n",
       "      <td>46</td>\n",
       "      <td>0.001918</td>\n",
       "    </tr>\n",
       "    <tr>\n",
       "      <th>49</th>\n",
       "      <td>Wyoming</td>\n",
       "      <td>38</td>\n",
       "      <td>0.001584</td>\n",
       "    </tr>\n",
       "    <tr>\n",
       "      <th>50</th>\n",
       "      <td>Vermont</td>\n",
       "      <td>31</td>\n",
       "      <td>0.001292</td>\n",
       "    </tr>\n",
       "  </tbody>\n",
       "</table>\n",
       "</div>"
      ],
      "text/plain": [
       "               state  attack    att_pc\n",
       "0         California    2293  0.095593\n",
       "1              Texas    2003  0.083504\n",
       "2            Florida    1425  0.059407\n",
       "3             Kansas    1371  0.057156\n",
       "4           New York    1315  0.054821\n",
       "5       Pennsylvania     970  0.040439\n",
       "6           Illinois     948  0.039521\n",
       "7               Ohio     914  0.038104\n",
       "8            Georgia     841  0.035061\n",
       "9     North Carolina     759  0.031642\n",
       "10          Michigan     715  0.029808\n",
       "11        New Jersey     669  0.027890\n",
       "12          Virginia     526  0.021929\n",
       "13           Arizona     503  0.020970\n",
       "14        Washington     502  0.020928\n",
       "15          Missouri     480  0.020011\n",
       "16         Wisconsin     472  0.019677\n",
       "17           Indiana     458  0.019094\n",
       "18     Massachusetts     453  0.018885\n",
       "19          Maryland     430  0.017926\n",
       "20         Tennessee     425  0.017718\n",
       "21           Alabama     412  0.017176\n",
       "22         Minnesota     405  0.016884\n",
       "23          Colorado     394  0.016426\n",
       "24    South Carolina     386  0.016092\n",
       "25          Kentucky     373  0.015550\n",
       "26         Louisiana     366  0.015258\n",
       "27          Oklahoma     293  0.012215\n",
       "28          Arkansas     262  0.010923\n",
       "29       Mississippi     241  0.010047\n",
       "30            Oregon     235  0.009797\n",
       "31              Iowa     228  0.009505\n",
       "32       Connecticut     226  0.009422\n",
       "33            Nevada     187  0.007796\n",
       "34              Utah     164  0.006837\n",
       "35     West Virginia     161  0.006712\n",
       "36          Nebraska     144  0.006003\n",
       "37        New Mexico     133  0.005545\n",
       "38             Maine     113  0.004711\n",
       "39             Idaho      99  0.004127\n",
       "40     New Hampshire      98  0.004086\n",
       "41           Montana      83  0.003460\n",
       "42      Rhode Island      77  0.003210\n",
       "43            Hawaii      73  0.003043\n",
       "44      South Dakota      69  0.002877\n",
       "45          Delaware      68  0.002835\n",
       "46  Washington, D.C.      57  0.002376\n",
       "47      North Dakota      53  0.002210\n",
       "48            Alaska      46  0.001918\n",
       "49           Wyoming      38  0.001584\n",
       "50           Vermont      31  0.001292"
      ]
     },
     "execution_count": 128,
     "metadata": {},
     "output_type": "execute_result"
    }
   ],
   "source": [
    "us_count"
   ]
  },
  {
   "cell_type": "code",
   "execution_count": null,
   "metadata": {
    "colab": {
     "base_uri": "https://localhost:8080/",
     "height": 136
    },
    "colab_type": "code",
    "executionInfo": {
     "elapsed": 890,
     "status": "ok",
     "timestamp": 1583421503236,
     "user": {
      "displayName": "Mike Hsiao",
      "photoUrl": "https://lh3.googleusercontent.com/a-/AOh14GjI9xcJoAwBTYXflhzWDz6CleXAscX_B6zAjYPRlCQ=s64",
      "userId": "17174434063503717705"
     },
     "user_tz": -480
    },
    "id": "wbhemJE7u-rY",
    "outputId": "4d16a77e-c8dc-4807-d747-b5b1917cc3b3"
   },
   "outputs": [
    {
     "name": "stdout",
     "output_type": "stream",
     "text": [
      "\n",
      "median_house_value = \n",
      " +6.122032984138616e-05 * pop\n",
      " +4.277635450980529e-05 * income\n",
      " +1.3965378813110904e-07 * ipaddr\n",
      " -0.02791476271308256 * ufo2010\n",
      " -10.960810232575625\n"
     ]
    }
   ],
   "source": []
  },
  {
   "cell_type": "code",
   "execution_count": null,
   "metadata": {
    "colab": {
     "base_uri": "https://localhost:8080/",
     "height": 520
    },
    "colab_type": "code",
    "executionInfo": {
     "elapsed": 1820,
     "status": "ok",
     "timestamp": 1583421615778,
     "user": {
      "displayName": "Mike Hsiao",
      "photoUrl": "https://lh3.googleusercontent.com/a-/AOh14GjI9xcJoAwBTYXflhzWDz6CleXAscX_B6zAjYPRlCQ=s64",
      "userId": "17174434063503717705"
     },
     "user_tz": -480
    },
    "id": "I3DqkbSaRsOp",
    "outputId": "3829ca83-0b7f-4c48-e2a9-17033a40be46"
   },
   "outputs": [
    {
     "data": {
      "text/html": [
       "<table class=\"simpletable\">\n",
       "<caption>OLS Regression Results</caption>\n",
       "<tr>\n",
       "  <th>Dep. Variable:</th>         <td>attack</td>      <th>  R-squared (uncentered):</th>      <td>   0.948</td>\n",
       "</tr>\n",
       "<tr>\n",
       "  <th>Model:</th>                   <td>OLS</td>       <th>  Adj. R-squared (uncentered):</th> <td>   0.943</td>\n",
       "</tr>\n",
       "<tr>\n",
       "  <th>Method:</th>             <td>Least Squares</td>  <th>  F-statistic:       </th>          <td>   204.0</td>\n",
       "</tr>\n",
       "<tr>\n",
       "  <th>Date:</th>             <td>Thu, 05 Mar 2020</td> <th>  Prob (F-statistic):</th>          <td>3.22e-28</td>\n",
       "</tr>\n",
       "<tr>\n",
       "  <th>Time:</th>                 <td>15:20:15</td>     <th>  Log-Likelihood:    </th>          <td> -317.50</td>\n",
       "</tr>\n",
       "<tr>\n",
       "  <th>No. Observations:</th>      <td>    49</td>      <th>  AIC:               </th>          <td>   643.0</td>\n",
       "</tr>\n",
       "<tr>\n",
       "  <th>Df Residuals:</th>          <td>    45</td>      <th>  BIC:               </th>          <td>   650.6</td>\n",
       "</tr>\n",
       "<tr>\n",
       "  <th>Df Model:</th>              <td>     4</td>      <th>                     </th>              <td> </td>   \n",
       "</tr>\n",
       "<tr>\n",
       "  <th>Covariance Type:</th>      <td>nonrobust</td>    <th>                     </th>              <td> </td>   \n",
       "</tr>\n",
       "</table>\n",
       "<table class=\"simpletable\">\n",
       "<tr>\n",
       "     <td></td>        <th>coef</th>     <th>std err</th>      <th>t</th>      <th>P>|t|</th>  <th>[0.025</th>    <th>0.975]</th>  \n",
       "</tr>\n",
       "<tr>\n",
       "  <th>pop</th>     <td> 6.164e-05</td> <td> 9.87e-06</td> <td>    6.249</td> <td> 0.000</td> <td> 4.18e-05</td> <td> 8.15e-05</td>\n",
       "</tr>\n",
       "<tr>\n",
       "  <th>income</th>  <td> 4.027e-05</td> <td> 1.09e-05</td> <td>    3.698</td> <td> 0.001</td> <td> 1.83e-05</td> <td> 6.22e-05</td>\n",
       "</tr>\n",
       "<tr>\n",
       "  <th>ipaddr</th>  <td>  1.24e-07</td> <td> 7.29e-07</td> <td>    0.170</td> <td> 0.866</td> <td>-1.35e-06</td> <td> 1.59e-06</td>\n",
       "</tr>\n",
       "<tr>\n",
       "  <th>ufo2010</th> <td>   -0.0336</td> <td>    0.102</td> <td>   -0.330</td> <td> 0.743</td> <td>   -0.239</td> <td>    0.171</td>\n",
       "</tr>\n",
       "</table>\n",
       "<table class=\"simpletable\">\n",
       "<tr>\n",
       "  <th>Omnibus:</th>       <td>94.798</td> <th>  Durbin-Watson:     </th> <td>   2.267</td>\n",
       "</tr>\n",
       "<tr>\n",
       "  <th>Prob(Omnibus):</th> <td> 0.000</td> <th>  Jarque-Bera (JB):  </th> <td>2341.410</td>\n",
       "</tr>\n",
       "<tr>\n",
       "  <th>Skew:</th>          <td> 5.411</td> <th>  Prob(JB):          </th> <td>    0.00</td>\n",
       "</tr>\n",
       "<tr>\n",
       "  <th>Kurtosis:</th>      <td>35.089</td> <th>  Cond. No.          </th> <td>2.09e+05</td>\n",
       "</tr>\n",
       "</table><br/><br/>Warnings:<br/>[1] Standard Errors assume that the covariance matrix of the errors is correctly specified.<br/>[2] The condition number is large, 2.09e+05. This might indicate that there are<br/>strong multicollinearity or other numerical problems."
      ],
      "text/plain": [
       "<class 'statsmodels.iolib.summary.Summary'>\n",
       "\"\"\"\n",
       "                                 OLS Regression Results                                \n",
       "=======================================================================================\n",
       "Dep. Variable:                 attack   R-squared (uncentered):                   0.948\n",
       "Model:                            OLS   Adj. R-squared (uncentered):              0.943\n",
       "Method:                 Least Squares   F-statistic:                              204.0\n",
       "Date:                Thu, 05 Mar 2020   Prob (F-statistic):                    3.22e-28\n",
       "Time:                        15:20:15   Log-Likelihood:                         -317.50\n",
       "No. Observations:                  49   AIC:                                      643.0\n",
       "Df Residuals:                      45   BIC:                                      650.6\n",
       "Df Model:                           4                                                  \n",
       "Covariance Type:            nonrobust                                                  \n",
       "==============================================================================\n",
       "                 coef    std err          t      P>|t|      [0.025      0.975]\n",
       "------------------------------------------------------------------------------\n",
       "pop         6.164e-05   9.87e-06      6.249      0.000    4.18e-05    8.15e-05\n",
       "income      4.027e-05   1.09e-05      3.698      0.001    1.83e-05    6.22e-05\n",
       "ipaddr       1.24e-07   7.29e-07      0.170      0.866   -1.35e-06    1.59e-06\n",
       "ufo2010       -0.0336      0.102     -0.330      0.743      -0.239       0.171\n",
       "==============================================================================\n",
       "Omnibus:                       94.798   Durbin-Watson:                   2.267\n",
       "Prob(Omnibus):                  0.000   Jarque-Bera (JB):             2341.410\n",
       "Skew:                           5.411   Prob(JB):                         0.00\n",
       "Kurtosis:                      35.089   Cond. No.                     2.09e+05\n",
       "==============================================================================\n",
       "\n",
       "Warnings:\n",
       "[1] Standard Errors assume that the covariance matrix of the errors is correctly specified.\n",
       "[2] The condition number is large, 2.09e+05. This might indicate that there are\n",
       "strong multicollinearity or other numerical problems.\n",
       "\"\"\""
      ]
     },
     "execution_count": 183,
     "metadata": {
      "tags": []
     },
     "output_type": "execute_result"
    }
   ],
   "source": [
    "import statsmodels.api as sm\n",
    "results = sm.OLS(y_train, X_train).fit()\n",
    "results.summary()  "
   ]
  },
  {
   "cell_type": "markdown",
   "metadata": {
    "colab_type": "text",
    "id": "15qQqLDpTZ_O"
   },
   "source": [
    "# Additional Materials"
   ]
  },
  {
   "cell_type": "markdown",
   "metadata": {
    "colab_type": "text",
    "id": "2adl8gbbtdcX"
   },
   "source": [
    "### GeoPy\n",
    "\n",
    "Realtime network-based query. \n",
    "May limit query frequency.\n",
    "\n",
    "https://geopy.readthedocs.io/en/stable/"
   ]
  },
  {
   "cell_type": "code",
   "execution_count": null,
   "metadata": {
    "colab": {
     "base_uri": "https://localhost:8080/",
     "height": 51
    },
    "colab_type": "code",
    "executionInfo": {
     "elapsed": 5589,
     "status": "ok",
     "timestamp": 1583412116536,
     "user": {
      "displayName": "Mike Hsiao",
      "photoUrl": "https://lh3.googleusercontent.com/a-/AOh14GjI9xcJoAwBTYXflhzWDz6CleXAscX_B6zAjYPRlCQ=s64",
      "userId": "17174434063503717705"
     },
     "user_tz": -480
    },
    "id": "KBfljGX0tvs1",
    "outputId": "a52e3210-dfe1-41a7-84c1-33bfb26f2ffc"
   },
   "outputs": [
    {
     "name": "stdout",
     "output_type": "stream",
     "text": [
      "Requirement already satisfied: geopy in /usr/local/lib/python3.6/dist-packages (1.17.0)\n",
      "Requirement already satisfied: geographiclib<2,>=1.49 in /usr/local/lib/python3.6/dist-packages (from geopy) (1.50)\n"
     ]
    }
   ],
   "source": [
    "!pip install geopy"
   ]
  },
  {
   "cell_type": "code",
   "execution_count": null,
   "metadata": {
    "colab": {
     "base_uri": "https://localhost:8080/",
     "height": 357
    },
    "colab_type": "code",
    "executionInfo": {
     "elapsed": 2373,
     "status": "ok",
     "timestamp": 1583412225391,
     "user": {
      "displayName": "Mike Hsiao",
      "photoUrl": "https://lh3.googleusercontent.com/a-/AOh14GjI9xcJoAwBTYXflhzWDz6CleXAscX_B6zAjYPRlCQ=s64",
      "userId": "17174434063503717705"
     },
     "user_tz": -480
    },
    "id": "1NsRzhEZt753",
    "outputId": "4c10c800-69bf-463d-86a9-5ea66b461c28"
   },
   "outputs": [
    {
     "data": {
      "text/plain": [
       "{'address': {'building': 'Eagle Insurance Buildings',\n",
       "  'city': 'Manchester',\n",
       "  'country': 'United Kingdom',\n",
       "  'country_code': 'gb',\n",
       "  'county': 'Greater Manchester',\n",
       "  'house_number': '68',\n",
       "  'neighbourhood': 'Chinatown',\n",
       "  'postcode': 'M2 4JG',\n",
       "  'road': 'Cross Street',\n",
       "  'state': 'England',\n",
       "  'state_district': 'North West England',\n",
       "  'suburb': 'City Centre'},\n",
       " 'boundingbox': ['53.480856', '53.4810634', '-2.2451761', '-2.2449576'],\n",
       " 'display_name': 'Eagle Insurance Buildings, 68, Cross Street, Chinatown, City Centre, Manchester, Greater Manchester, North West England, England, M2 4JG, United Kingdom',\n",
       " 'lat': '53.4809597',\n",
       " 'licence': 'Data © OpenStreetMap contributors, ODbL 1.0. https://osm.org/copyright',\n",
       " 'lon': '-2.2450668274629235',\n",
       " 'osm_id': 37139875,\n",
       " 'osm_type': 'way',\n",
       " 'place_id': 96393663}"
      ]
     },
     "execution_count": 4,
     "metadata": {
      "tags": []
     },
     "output_type": "execute_result"
    }
   ],
   "source": [
    "import geopy\n",
    "\n",
    "locator = geopy.geocoders.Nominatim(user_agent=\"myGeocoder\")\n",
    "coordinates = \"53.480837, -2.244914\"\n",
    "location = locator.reverse(coordinates)\n",
    "location.raw"
   ]
  },
  {
   "cell_type": "markdown",
   "metadata": {
    "colab_type": "text",
    "id": "-fsvs7r24ib2"
   },
   "source": [
    "### Reverse Geocode"
   ]
  },
  {
   "cell_type": "code",
   "execution_count": null,
   "metadata": {
    "colab": {
     "base_uri": "https://localhost:8080/",
     "height": 238
    },
    "colab_type": "code",
    "executionInfo": {
     "elapsed": 7058,
     "status": "ok",
     "timestamp": 1583414976709,
     "user": {
      "displayName": "Mike Hsiao",
      "photoUrl": "https://lh3.googleusercontent.com/a-/AOh14GjI9xcJoAwBTYXflhzWDz6CleXAscX_B6zAjYPRlCQ=s64",
      "userId": "17174434063503717705"
     },
     "user_tz": -480
    },
    "id": "S9h2bsGM4ip7",
    "outputId": "9bdcd199-d18d-46f5-a2d2-0568e88817c0"
   },
   "outputs": [
    {
     "name": "stdout",
     "output_type": "stream",
     "text": [
      "Collecting reverse-geocode\n",
      "\u001b[?25l  Downloading https://files.pythonhosted.org/packages/9a/7e/33804f0148e0e589063c9bec738ea1e350275cc16364be478dea5a3c1248/reverse_geocode-1.4.tar.gz (1.6MB)\n",
      "\u001b[K     |████████████████████████████████| 1.6MB 2.8MB/s \n",
      "\u001b[?25hRequirement already satisfied: future in /usr/local/lib/python3.6/dist-packages (from reverse-geocode) (0.16.0)\n",
      "Requirement already satisfied: numpy in /usr/local/lib/python3.6/dist-packages (from reverse-geocode) (1.17.5)\n",
      "Requirement already satisfied: scipy in /usr/local/lib/python3.6/dist-packages (from reverse-geocode) (1.4.1)\n",
      "Building wheels for collected packages: reverse-geocode\n",
      "  Building wheel for reverse-geocode (setup.py) ... \u001b[?25l\u001b[?25hdone\n",
      "  Created wheel for reverse-geocode: filename=reverse_geocode-1.4-cp36-none-any.whl size=1637799 sha256=62b4d0ed626829f2d32c02d68fb3678aa53b7c66d12873ebf8b6b655f58893d7\n",
      "  Stored in directory: /root/.cache/pip/wheels/80/56/82/529b8b1d91c1ef49fe335d89d61bc4d244b6ed72c5063c55e9\n",
      "Successfully built reverse-geocode\n",
      "Installing collected packages: reverse-geocode\n",
      "Successfully installed reverse-geocode-1.4\n"
     ]
    }
   ],
   "source": [
    "!pip install reverse-geocode"
   ]
  },
  {
   "cell_type": "code",
   "execution_count": null,
   "metadata": {
    "colab": {
     "base_uri": "https://localhost:8080/",
     "height": 34
    },
    "colab_type": "code",
    "executionInfo": {
     "elapsed": 920,
     "status": "ok",
     "timestamp": 1583415010084,
     "user": {
      "displayName": "Mike Hsiao",
      "photoUrl": "https://lh3.googleusercontent.com/a-/AOh14GjI9xcJoAwBTYXflhzWDz6CleXAscX_B6zAjYPRlCQ=s64",
      "userId": "17174434063503717705"
     },
     "user_tz": -480
    },
    "id": "YHtObLB04sxa",
    "outputId": "f593126d-4125-4795-a37c-60b707240687"
   },
   "outputs": [
    {
     "name": "stdout",
     "output_type": "stream",
     "text": [
      "{'country_code': 'GB', 'city': 'Bayswater', 'country': 'United Kingdom'}\n"
     ]
    }
   ],
   "source": [
    "# need a package that can convert lat,long to contury code\n",
    "# https://pypi.org/project/reverse-geocode/\n",
    "\n",
    "import reverse_geocode\n",
    "\n",
    "coordinates = [(51.5214588, -0.1729636)]\n",
    "results = reverse_geocode.search(coordinates)\n",
    "\n",
    "print(results[0])"
   ]
  },
  {
   "cell_type": "markdown",
   "metadata": {
    "colab_type": "text",
    "id": "CLVwMNwVyqhd"
   },
   "source": [
    "### Reverse Geocoder\n",
    "\n",
    "https://github.com/thampiman/reverse-geocoder\n"
   ]
  },
  {
   "cell_type": "code",
   "execution_count": null,
   "metadata": {
    "colab": {
     "base_uri": "https://localhost:8080/",
     "height": 221
    },
    "colab_type": "code",
    "executionInfo": {
     "elapsed": 7941,
     "status": "ok",
     "timestamp": 1583413425316,
     "user": {
      "displayName": "Mike Hsiao",
      "photoUrl": "https://lh3.googleusercontent.com/a-/AOh14GjI9xcJoAwBTYXflhzWDz6CleXAscX_B6zAjYPRlCQ=s64",
      "userId": "17174434063503717705"
     },
     "user_tz": -480
    },
    "id": "LuSME3EVyxAn",
    "outputId": "76aa04f3-429d-4191-a0df-7a083866861c"
   },
   "outputs": [
    {
     "name": "stdout",
     "output_type": "stream",
     "text": [
      "Collecting reverse_geocoder\n",
      "\u001b[?25l  Downloading https://files.pythonhosted.org/packages/0b/0f/b7d5d4b36553731f11983e19e1813a1059ad0732c5162c01b3220c927d31/reverse_geocoder-1.5.1.tar.gz (2.2MB)\n",
      "\u001b[K     |████████████████████████████████| 2.3MB 2.7MB/s \n",
      "\u001b[?25hRequirement already satisfied: numpy>=1.11.0 in /usr/local/lib/python3.6/dist-packages (from reverse_geocoder) (1.17.5)\n",
      "Requirement already satisfied: scipy>=0.17.1 in /usr/local/lib/python3.6/dist-packages (from reverse_geocoder) (1.4.1)\n",
      "Building wheels for collected packages: reverse-geocoder\n",
      "  Building wheel for reverse-geocoder (setup.py) ... \u001b[?25l\u001b[?25hdone\n",
      "  Created wheel for reverse-geocoder: filename=reverse_geocoder-1.5.1-cp36-none-any.whl size=2268091 sha256=b928e64e402af7f38e182b29363df26029479fa12c7a9fa049095c2149870813\n",
      "  Stored in directory: /root/.cache/pip/wheels/47/05/50/b1350ff094ef91e082665b4a2f9ca551f8acea4aa55d796b26\n",
      "Successfully built reverse-geocoder\n",
      "Installing collected packages: reverse-geocoder\n",
      "Successfully installed reverse-geocoder-1.5.1\n"
     ]
    }
   ],
   "source": [
    " !pip install reverse_geocoder"
   ]
  },
  {
   "cell_type": "code",
   "execution_count": null,
   "metadata": {
    "colab": {
     "base_uri": "https://localhost:8080/",
     "height": 34
    },
    "colab_type": "code",
    "executionInfo": {
     "elapsed": 1492,
     "status": "ok",
     "timestamp": 1583414579821,
     "user": {
      "displayName": "Mike Hsiao",
      "photoUrl": "https://lh3.googleusercontent.com/a-/AOh14GjI9xcJoAwBTYXflhzWDz6CleXAscX_B6zAjYPRlCQ=s64",
      "userId": "17174434063503717705"
     },
     "user_tz": -480
    },
    "id": "z-IUMZq_y0wZ",
    "outputId": "c32f6c4e-6fd2-428a-b514-a517539dc96e"
   },
   "outputs": [
    {
     "name": "stdout",
     "output_type": "stream",
     "text": [
      "{'lat': '51.51116', 'lon': '-0.18426', 'name': 'Bayswater', 'admin1': 'England', 'admin2': 'Greater London', 'cc': 'GB'}\n"
     ]
    }
   ],
   "source": [
    "import reverse_geocoder\n",
    "\n",
    "coordinates = [(51.5214588, -0.1729636)]\n",
    "results = reverse_geocoder.search(coordinates) # default mode = 2\n",
    "\n",
    "print(dict(results[0]))"
   ]
  }
 ],
 "metadata": {
  "colab": {
   "authorship_tag": "ABX9TyOWP81k3x1C1850YBX2TBAD",
   "collapsed_sections": [],
   "name": "HW01-ZeroAccess.ipynb",
   "provenance": [],
   "toc_visible": true
  },
  "kernelspec": {
   "display_name": "Python 3",
   "language": "python",
   "name": "python3"
  },
  "language_info": {
   "codemirror_mode": {
    "name": "ipython",
    "version": 3
   },
   "file_extension": ".py",
   "mimetype": "text/x-python",
   "name": "python",
   "nbconvert_exporter": "python",
   "pygments_lexer": "ipython3",
   "version": "3.7.3"
  }
 },
 "nbformat": 4,
 "nbformat_minor": 4
}

{
 "cells": [
  {
   "cell_type": "markdown",
   "metadata": {
    "colab_type": "text",
    "id": "2H9wQu_0NlEu"
   },
   "source": [
    "### HW09 Static Analysis (By Autoencoder & NN)\n",
    "\n",
    "Since we cannot share real malware binary with you. We give you the pefile analysis result (by calling pefile_dump() ) and save the result in a dictionary. You have to practice writing a parser before analyzing the given pefile dump file."
   ]
  },
  {
   "cell_type": "markdown",
   "metadata": {
    "colab_type": "text",
    "id": "Up2lU-B8RRfE"
   },
   "source": [
    "### Download data\n"
   ]
  },
  {
   "cell_type": "code",
   "execution_count": null,
   "metadata": {
    "colab": {
     "base_uri": "https://localhost:8080/",
     "height": 326
    },
    "colab_type": "code",
    "executionInfo": {
     "elapsed": 2648,
     "status": "ok",
     "timestamp": 1591013958605,
     "user": {
      "displayName": "Jason Hung",
      "photoUrl": "https://lh6.googleusercontent.com/-ZoLzTda4_5w/AAAAAAAAAAI/AAAAAAAAAiY/vAe8OMYgKAI/s64/photo.jpg",
      "userId": "01858859973370858112"
     },
     "user_tz": -480
    },
    "id": "KaUYwIFuMPmc",
    "outputId": "23d76ffd-0c53-40c3-c8d3-8b8300b7b1d4"
   },
   "outputs": [
    {
     "name": "stdout",
     "output_type": "stream",
     "text": [
      "--2020-06-01 12:19:16--  https://drive.google.com/uc?id=1BTr1IDPhRF9WnFjXFwJWiqJ31qa-EWL9\n",
      "Resolving drive.google.com (drive.google.com)... 74.125.20.139, 74.125.20.100, 74.125.20.113, ...\n",
      "Connecting to drive.google.com (drive.google.com)|74.125.20.139|:443... connected.\n",
      "HTTP request sent, awaiting response... 302 Moved Temporarily\n",
      "Location: https://doc-08-38-docs.googleusercontent.com/docs/securesc/ha0ro937gcuc7l7deffksulhg5h7mbp1/mqou1veot45ndphl2c664e7ats14a3hl/1591013925000/17174434063503717705/*/1BTr1IDPhRF9WnFjXFwJWiqJ31qa-EWL9 [following]\n",
      "Warning: wildcards not supported in HTTP.\n",
      "--2020-06-01 12:19:17--  https://doc-08-38-docs.googleusercontent.com/docs/securesc/ha0ro937gcuc7l7deffksulhg5h7mbp1/mqou1veot45ndphl2c664e7ats14a3hl/1591013925000/17174434063503717705/*/1BTr1IDPhRF9WnFjXFwJWiqJ31qa-EWL9\n",
      "Resolving doc-08-38-docs.googleusercontent.com (doc-08-38-docs.googleusercontent.com)... 74.125.142.132, 2607:f8b0:400e:c08::84\n",
      "Connecting to doc-08-38-docs.googleusercontent.com (doc-08-38-docs.googleusercontent.com)|74.125.142.132|:443... connected.\n",
      "HTTP request sent, awaiting response... 200 OK\n",
      "Length: 414677 (405K) [application/octet-stream]\n",
      "Saving to: ‘pef_dumpdict_40.pickle’\n",
      "\n",
      "pef_dumpdict_40.pic 100%[===================>] 404.96K  --.-KB/s    in 0.004s  \n",
      "\n",
      "2020-06-01 12:19:17 (108 MB/s) - ‘pef_dumpdict_40.pickle’ saved [414677/414677]\n",
      "\n"
     ]
    }
   ],
   "source": [
    "# Here is the dump dictionary.\n",
    "!wget https://drive.google.com/uc?id=1BTr1IDPhRF9WnFjXFwJWiqJ31qa-EWL9 -O pef_dumpdict_40.pickle"
   ]
  },
  {
   "cell_type": "code",
   "execution_count": null,
   "metadata": {
    "colab": {
     "base_uri": "https://localhost:8080/",
     "height": 119
    },
    "colab_type": "code",
    "executionInfo": {
     "elapsed": 20867,
     "status": "ok",
     "timestamp": 1591013196481,
     "user": {
      "displayName": "Jason Hung",
      "photoUrl": "https://lh6.googleusercontent.com/-ZoLzTda4_5w/AAAAAAAAAAI/AAAAAAAAAiY/vAe8OMYgKAI/s64/photo.jpg",
      "userId": "01858859973370858112"
     },
     "user_tz": -480
    },
    "id": "VNGAPlU8MnJP",
    "outputId": "86e4f7ec-e1e7-4195-fc5a-0b35e058e8c7"
   },
   "outputs": [
    {
     "name": "stdout",
     "output_type": "stream",
     "text": [
      "total 424\n",
      "drwxr-xr-x 1 root root   4096 Jun  1 12:06 .\n",
      "drwxr-xr-x 1 root root   4096 Jun  1 12:05 ..\n",
      "drwxr-xr-x 1 root root   4096 May 27 16:27 .config\n",
      "-rw-r--r-- 1 root root 414677 Jun  1 12:06 pef_dumpdict_40.pickle\n",
      "drwxr-xr-x 1 root root   4096 May 27 16:27 sample_data\n"
     ]
    }
   ],
   "source": [
    "# The size should be 414677 bytes.\n",
    "!ls -al"
   ]
  },
  {
   "cell_type": "code",
   "execution_count": null,
   "metadata": {
    "colab": {},
    "colab_type": "code",
    "id": "MovFVjB5M-RR"
   },
   "outputs": [],
   "source": [
    "# It is stored in a pickle file.\n",
    "# You can retrive it by using the following code.\n",
    "\n",
    "import pickle\n",
    "import os \n",
    "\n",
    "with open(\"/content/pef_dumpdict_40.pickle\", 'rb') as fd:\n",
    "  pef_dumpdicts = pickle.load(fd)"
   ]
  },
  {
   "cell_type": "code",
   "execution_count": null,
   "metadata": {
    "colab": {
     "base_uri": "https://localhost:8080/",
     "height": 204
    },
    "colab_type": "code",
    "executionInfo": {
     "elapsed": 43790,
     "status": "ok",
     "timestamp": 1586786668788,
     "user": {
      "displayName": "Jason Hung",
      "photoUrl": "https://lh6.googleusercontent.com/-ZoLzTda4_5w/AAAAAAAAAAI/AAAAAAAAAiY/vAe8OMYgKAI/s64/photo.jpg",
      "userId": "01858859973370858112"
     },
     "user_tz": -480
    },
    "id": "UqhEYpAZOsUa",
    "outputId": "e69f7055-0987-4920-f3e5-923709473dfc"
   },
   "outputs": [
    {
     "name": "stdout",
     "output_type": "stream",
     "text": [
      "Collecting pefile\n",
      "\u001b[?25l  Downloading https://files.pythonhosted.org/packages/36/58/acf7f35859d541985f0a6ea3c34baaefbfaee23642cf11e85fe36453ae77/pefile-2019.4.18.tar.gz (62kB)\n",
      "\u001b[K     |████████████████████████████████| 71kB 2.2MB/s eta 0:00:011\n",
      "\u001b[?25hRequirement already satisfied: future in /usr/local/lib/python3.6/dist-packages (from pefile) (0.16.0)\n",
      "Building wheels for collected packages: pefile\n",
      "  Building wheel for pefile (setup.py) ... \u001b[?25l\u001b[?25hdone\n",
      "  Created wheel for pefile: filename=pefile-2019.4.18-cp36-none-any.whl size=60824 sha256=8d03ef549566c58c852f6c54abdfdbd291003ceaa21f3bbf3f4accfd2f7f7128\n",
      "  Stored in directory: /root/.cache/pip/wheels/1c/a1/95/4f33011a0c013c872fe6f0f364dc463a2588120820e40a30d8\n",
      "Successfully built pefile\n",
      "Installing collected packages: pefile\n",
      "Successfully installed pefile-2019.4.18\n"
     ]
    }
   ],
   "source": [
    "!pip install pefile"
   ]
  },
  {
   "cell_type": "markdown",
   "metadata": {
    "colab_type": "text",
    "id": "sqW1y5EdRVyR"
   },
   "source": [
    "### Analyze the downloaded data"
   ]
  },
  {
   "cell_type": "code",
   "execution_count": null,
   "metadata": {
    "colab": {
     "base_uri": "https://localhost:8080/",
     "height": 34
    },
    "colab_type": "code",
    "executionInfo": {
     "elapsed": 1568,
     "status": "ok",
     "timestamp": 1591013847494,
     "user": {
      "displayName": "Jason Hung",
      "photoUrl": "https://lh6.googleusercontent.com/-ZoLzTda4_5w/AAAAAAAAAAI/AAAAAAAAAiY/vAe8OMYgKAI/s64/photo.jpg",
      "userId": "01858859973370858112"
     },
     "user_tz": -480
    },
    "id": "V9z5APWLRaKu",
    "outputId": "2ac970c4-7551-4f26-efcc-f0f737863256"
   },
   "outputs": [
    {
     "name": "stdout",
     "output_type": "stream",
     "text": [
      "40\n"
     ]
    }
   ],
   "source": [
    "# Now pef_dumpdict is what we want you to analyze.\n",
    "# It combines 40 malware's pefile.dump_dict().\n",
    "\n",
    "print(len(pef_dumpdicts))"
   ]
  },
  {
   "cell_type": "code",
   "execution_count": null,
   "metadata": {
    "colab": {
     "base_uri": "https://localhost:8080/",
     "height": 737
    },
    "colab_type": "code",
    "executionInfo": {
     "elapsed": 1802,
     "status": "ok",
     "timestamp": 1586776822173,
     "user": {
      "displayName": "Jason Hung",
      "photoUrl": "https://lh6.googleusercontent.com/-ZoLzTda4_5w/AAAAAAAAAAI/AAAAAAAAAiY/vAe8OMYgKAI/s64/photo.jpg",
      "userId": "01858859973370858112"
     },
     "user_tz": -480
    },
    "id": "UOOJPk9URpTI",
    "outputId": "8f33aabb-65ef-4d25-ac61-b41093d42b5b"
   },
   "outputs": [
    {
     "name": "stdout",
     "output_type": "stream",
     "text": [
      "07edeebc14b053fffdfb4dcc08959360\n",
      "0cfab9961285ab6e04f449c6d09cec37\n",
      "2c1e90810ca30865cbf4440118c4aa0f\n",
      "412c8d4d6afc88391e6dad508106681a\n",
      "656f628856a62f1dc14748bff4cee2e5\n",
      "8595c554539a172534c95222260650e5\n",
      "88b666fd4ef1c21f4051ad3f859ee5bd\n",
      "8aa66c2a430c3545c542e8419de13385\n",
      "e776d8d8d187bdb68f41dc9ccfc86444\n",
      "ed1304342c5794cb0a55840253793b45\n",
      "2650e58a609438ba18706f539b49a6af\n",
      "2a5932a800123709eff21dbd2310e090\n",
      "4271ba51876b1e931dd55b2ccff25789\n",
      "52cae62ada8b02adae128e35686cbc16\n",
      "774b71a232568ca7ea09c0a26b82f8e5\n",
      "7b57508defc0934c69b98544b4bac185\n",
      "8081b6b58cc3372ad62a5d8b6ce09c0b\n",
      "8e6d8d46e4a7482b9475e6c5b211dc61\n",
      "b4e89348aa9b635b8edce746f8231303\n",
      "e0ad769d1bd2b9b6444796f99b52a43f\n",
      "0c6e68a34804df907df26d7139b1f052\n",
      "0e751a5b6db31895c283ddd9757477de\n",
      "0f74a58af435599ec94eff2b72d5e55e\n",
      "1d0ce31c6d7129a74e2921e8d161c752\n",
      "2cceeae738cae520544e9d9fda9ca30e\n",
      "2ea5285f04bc9a0b3008165779a382ec\n",
      "2f45c7132f623cd7caea6d7965d53a0f\n",
      "3b569cd1c63b83446420dd798a8622b7\n",
      "3f07e530430d1d450bfeaf0a595109b1\n",
      "4aa9b2104ac7c7602c4258a0f7ce2b44\n",
      "17af47cdfd7c327ebfc2ab21221fee03\n",
      "1f6bcbaaefaec970de211d47c7c57854\n",
      "573054f5a9b74edc86ede736876bcb57\n",
      "60c4a8055b75c25d60932d1e6c34e05a\n",
      "6a3943016197db960f00e27f1b154093\n",
      "6db56b93657419ea946b2db489d88908\n",
      "91e8fe3c2623eaea8ec8027564a857d5\n",
      "bc28e599e69d23edcb60b0dd5b428f6f\n",
      "d32c82e4632a1e6656b05678ae5560fd\n",
      "ec34196b53dd111997b88eaa2920b7f4\n"
     ]
    }
   ],
   "source": [
    "# The id of the 40 malwares are\n",
    "for key in pef_dumpdicts.keys():\n",
    "  print(key)"
   ]
  },
  {
   "cell_type": "code",
   "execution_count": null,
   "metadata": {
    "colab": {
     "base_uri": "https://localhost:8080/",
     "height": 1000
    },
    "colab_type": "code",
    "executionInfo": {
     "elapsed": 732,
     "status": "ok",
     "timestamp": 1591014847479,
     "user": {
      "displayName": "Jason Hung",
      "photoUrl": "https://lh6.googleusercontent.com/-ZoLzTda4_5w/AAAAAAAAAAI/AAAAAAAAAiY/vAe8OMYgKAI/s64/photo.jpg",
      "userId": "01858859973370858112"
     },
     "user_tz": -480
    },
    "id": "tOT-d-X_R2G6",
    "outputId": "79c5d43b-0619-49ae-b061-60e2f5da961a"
   },
   "outputs": [
    {
     "name": "stdout",
     "output_type": "stream",
     "text": [
      "{'Characteristics': {'FileOffset': 500, 'Offset': 36, 'Value': 3758096512},\n",
      " 'Entropy': 0.0,\n",
      " 'Flags': ['IMAGE_SCN_CNT_UNINITIALIZED_DATA',\n",
      "           'IMAGE_SCN_MEM_EXECUTE',\n",
      "           'IMAGE_SCN_MEM_READ',\n",
      "           'IMAGE_SCN_MEM_WRITE'],\n",
      " 'MD5': 'd41d8cd98f00b204e9800998ecf8427e',\n",
      " 'Misc': {'FileOffset': 472, 'Offset': 8, 'Value': 20480},\n",
      " 'Misc_PhysicalAddress': {'FileOffset': 472, 'Offset': 8, 'Value': 20480},\n",
      " 'Misc_VirtualSize': {'FileOffset': 472, 'Offset': 8, 'Value': 20480},\n",
      " 'Name': {'FileOffset': 464, 'Offset': 0, 'Value': 'UPX0\\\\x00\\\\x00\\\\x00\\\\x00'},\n",
      " 'NumberOfLinenumbers': {'FileOffset': 498, 'Offset': 34, 'Value': 0},\n",
      " 'NumberOfRelocations': {'FileOffset': 496, 'Offset': 32, 'Value': 0},\n",
      " 'PointerToLinenumbers': {'FileOffset': 492, 'Offset': 28, 'Value': 0},\n",
      " 'PointerToRawData': {'FileOffset': 484, 'Offset': 20, 'Value': 1024},\n",
      " 'PointerToRelocations': {'FileOffset': 488, 'Offset': 24, 'Value': 0},\n",
      " 'SHA1': 'da39a3ee5e6b4b0d3255bfef95601890afd80709',\n",
      " 'SHA256': 'e3b0c44298fc1c149afbf4c8996fb92427ae41e4649b934ca495991b7852b855',\n",
      " 'SHA512': 'cf83e1357eefb8bdf1542850d66d8007d620e4050b5715dc83f4a921d36ce9ce47d0d13c5d85f2b0ff8318d2877eec2f63b931bd47417a81a538327af927da3e',\n",
      " 'SizeOfRawData': {'FileOffset': 480, 'Offset': 16, 'Value': 0},\n",
      " 'Structure': 'IMAGE_SECTION_HEADER',\n",
      " 'VirtualAddress': {'FileOffset': 476, 'Offset': 12, 'Value': 4096}}\n",
      "{'Characteristics': {'FileOffset': 540, 'Offset': 36, 'Value': 3758096480},\n",
      " 'Entropy': 7.902853096944673,\n",
      " 'Flags': ['IMAGE_SCN_CNT_CODE',\n",
      "           'IMAGE_SCN_CNT_INITIALIZED_DATA',\n",
      "           'IMAGE_SCN_MEM_EXECUTE',\n",
      "           'IMAGE_SCN_MEM_READ',\n",
      "           'IMAGE_SCN_MEM_WRITE'],\n",
      " 'MD5': '99b34761df700a7b4dbdcb53733675af',\n",
      " 'Misc': {'FileOffset': 512, 'Offset': 8, 'Value': 8192},\n",
      " 'Misc_PhysicalAddress': {'FileOffset': 512, 'Offset': 8, 'Value': 8192},\n",
      " 'Misc_VirtualSize': {'FileOffset': 512, 'Offset': 8, 'Value': 8192},\n",
      " 'Name': {'FileOffset': 504, 'Offset': 0, 'Value': 'UPX1\\\\x00\\\\x00\\\\x00\\\\x00'},\n",
      " 'NumberOfLinenumbers': {'FileOffset': 538, 'Offset': 34, 'Value': 0},\n",
      " 'NumberOfRelocations': {'FileOffset': 536, 'Offset': 32, 'Value': 0},\n",
      " 'PointerToLinenumbers': {'FileOffset': 532, 'Offset': 28, 'Value': 0},\n",
      " 'PointerToRawData': {'FileOffset': 524, 'Offset': 20, 'Value': 1024},\n",
      " 'PointerToRelocations': {'FileOffset': 528, 'Offset': 24, 'Value': 0},\n",
      " 'SHA1': '31ac1e3b861f35375e93afcefbf5ee8f834ec07c',\n",
      " 'SHA256': 'dfc82f58da6e8c5a88910a50aaf2b7f9fbb3dcaa1b07379ea809438efdc1cc9d',\n",
      " 'SHA512': '308a94d7ff014068b8701828979859c6a56363051b5f74a049bbf73d2e6d663c0ab511a4fe3a62444e16d9f69524c8df4d1968f6d18cfa5367ac4bd7187c6956',\n",
      " 'SizeOfRawData': {'FileOffset': 520, 'Offset': 16, 'Value': 7680},\n",
      " 'Structure': 'IMAGE_SECTION_HEADER',\n",
      " 'VirtualAddress': {'FileOffset': 516, 'Offset': 12, 'Value': 24576}}\n",
      "{'Characteristics': {'FileOffset': 580, 'Offset': 36, 'Value': 3758096480},\n",
      " 'Entropy': 2.6755684369499013,\n",
      " 'Flags': ['IMAGE_SCN_CNT_CODE',\n",
      "           'IMAGE_SCN_CNT_INITIALIZED_DATA',\n",
      "           'IMAGE_SCN_MEM_EXECUTE',\n",
      "           'IMAGE_SCN_MEM_READ',\n",
      "           'IMAGE_SCN_MEM_WRITE'],\n",
      " 'MD5': '1139f90a792caa1154e9908f13fe19ef',\n",
      " 'Misc': {'FileOffset': 552, 'Offset': 8, 'Value': 8192},\n",
      " 'Misc_PhysicalAddress': {'FileOffset': 552, 'Offset': 8, 'Value': 8192},\n",
      " 'Misc_VirtualSize': {'FileOffset': 552, 'Offset': 8, 'Value': 8192},\n",
      " 'Name': {'FileOffset': 544, 'Offset': 0, 'Value': 'UPX2\\\\x00\\\\x00\\\\x00\\\\x00'},\n",
      " 'NumberOfLinenumbers': {'FileOffset': 578, 'Offset': 34, 'Value': 0},\n",
      " 'NumberOfRelocations': {'FileOffset': 576, 'Offset': 32, 'Value': 0},\n",
      " 'PointerToLinenumbers': {'FileOffset': 572, 'Offset': 28, 'Value': 0},\n",
      " 'PointerToRawData': {'FileOffset': 564, 'Offset': 20, 'Value': 8704},\n",
      " 'PointerToRelocations': {'FileOffset': 568, 'Offset': 24, 'Value': 0},\n",
      " 'SHA1': '494983fe50ae27c98f7edfda300e73833e2f9fc6',\n",
      " 'SHA256': '132782397e571aa500143cd152e28c7b4927ac23545f5cfc15f2b864fd7850c0',\n",
      " 'SHA512': '28c524834ee6b1de70067ba4664768834174694107646df40bd9283b5fbd742e127908d4434bd9a80886030f687efad19fd4963165b3b04b47e265cbdbfa3b3a',\n",
      " 'SizeOfRawData': {'FileOffset': 560, 'Offset': 16, 'Value': 1024},\n",
      " 'Structure': 'IMAGE_SECTION_HEADER',\n",
      " 'VirtualAddress': {'FileOffset': 556, 'Offset': 12, 'Value': 32768}}\n",
      "\n",
      "Name, Misc_VirtualSize, SizeOfRawData, Entropy, MD5\n",
      "UPX0\\x00\\x00\\x00\\x00 20480 0 0.0 d41d8cd98f00b204e9800998ecf8427e\n",
      "UPX1\\x00\\x00\\x00\\x00 8192 7680 7.902853096944673 99b34761df700a7b4dbdcb53733675af\n",
      "UPX2\\x00\\x00\\x00\\x00 8192 1024 2.6755684369499013 1139f90a792caa1154e9908f13fe19ef\n"
     ]
    }
   ],
   "source": [
    "# so the fist dump_dict is\n",
    "first_dict = pef_dumpdicts['88b666fd4ef1c21f4051ad3f859ee5bd']\n",
    "\n",
    "# you can now access the data you want\n",
    "# for example print all sections and their info.\n",
    "for sec in first_dict['PE Sections']:\n",
    "    pprint.pprint(sec)\n",
    "\n",
    "# or like this (as what we see in pefile demonstration)\n",
    "print(\"\\nName, Misc_VirtualSize, SizeOfRawData, Entropy, MD5\")\n",
    "for sec in first_dict['PE Sections']:\n",
    "    print(sec['Name']['Value'], sec['Misc_VirtualSize']['Value'], sec['SizeOfRawData']['Value'], sec['Entropy'], sec['MD5'])"
   ]
  },
  {
   "cell_type": "code",
   "execution_count": null,
   "metadata": {
    "colab": {
     "base_uri": "https://localhost:8080/",
     "height": 187
    },
    "colab_type": "code",
    "executionInfo": {
     "elapsed": 2746,
     "status": "ok",
     "timestamp": 1591014852559,
     "user": {
      "displayName": "Jason Hung",
      "photoUrl": "https://lh6.googleusercontent.com/-ZoLzTda4_5w/AAAAAAAAAAI/AAAAAAAAAiY/vAe8OMYgKAI/s64/photo.jpg",
      "userId": "01858859973370858112"
     },
     "user_tz": -480
    },
    "id": "91l0xXqYTfbJ",
    "outputId": "28fca6b2-3f5b-4061-e66c-63fd34646eb6"
   },
   "outputs": [
    {
     "name": "stdout",
     "output_type": "stream",
     "text": [
      "KERNEL32.DLL\n",
      " {'LoadLibraryA'}\n",
      "ADVAPI32.dll\n",
      " {'RegCloseKey'}\n",
      "MSVCRT.dll\n",
      " {'rand'}\n",
      "USER32.dll\n",
      " {'wsprintfA'}\n",
      "WININET.dll\n",
      " {'InternetOpenA'}\n"
     ]
    }
   ],
   "source": [
    "# Here you can output the dll and windows api used by a pe file\n",
    "# You may print dump_dict['Imported symbols'] first\n",
    "# and try to locate the info you want to retrive.\n",
    "\n",
    "api_dict = dict()\n",
    "for records in first_dict['Imported symbols']:\n",
    "    for record in records:\n",
    "        if 'Name' in record:\n",
    "            if isinstance(record['Name'], bytes):\n",
    "                dll = record['DLL'].decode(\"ascii\")\n",
    "                name = record['Name'].decode(\"ascii\")\n",
    "                if dll not in api_dict:\n",
    "                    api_dict[dll] = set()\n",
    "                    api_dict[dll].add(name)\n",
    "\n",
    "for dll in api_dict:\n",
    "    print(dll)\n",
    "    print(\"\", api_dict[dll])"
   ]
  },
  {
   "cell_type": "code",
   "execution_count": null,
   "metadata": {
    "colab": {
     "base_uri": "https://localhost:8080/",
     "height": 717
    },
    "colab_type": "code",
    "executionInfo": {
     "elapsed": 1167,
     "status": "ok",
     "timestamp": 1591015880766,
     "user": {
      "displayName": "Jason Hung",
      "photoUrl": "https://lh6.googleusercontent.com/-ZoLzTda4_5w/AAAAAAAAAAI/AAAAAAAAAiY/vAe8OMYgKAI/s64/photo.jpg",
      "userId": "01858859973370858112"
     },
     "user_tz": -480
    },
    "id": "zELUreyx5Isy",
    "outputId": "049a52c5-fc51-4984-97cc-eeb233701014"
   },
   "outputs": [],
   "source": [
    "# there timeDataStamp is difference\n",
    "for key in pef_dumpdicts.keys():\n",
    "    temp = pef_dumpdicts[key]\n",
    "    # print(temp['FILE_HEADER']['TimeDateStamp'])\n",
    "    # print(temp['DOS_HEADER']['e_res'])\n",
    "    print(temp['Directories'])"
   ]
  },
  {
   "cell_type": "code",
   "execution_count": null,
   "metadata": {
    "colab": {},
    "colab_type": "code",
    "id": "M1u-oa134Jqq"
   },
   "outputs": [],
   "source": [
    "def find_info(pef):\n",
    "    return ''"
   ]
  },
  {
   "cell_type": "code",
   "execution_count": null,
   "metadata": {
    "colab": {
     "base_uri": "https://localhost:8080/",
     "height": 54
    },
    "colab_type": "code",
    "executionInfo": {
     "elapsed": 647,
     "status": "ok",
     "timestamp": 1591015337035,
     "user": {
      "displayName": "Jason Hung",
      "photoUrl": "https://lh6.googleusercontent.com/-ZoLzTda4_5w/AAAAAAAAAAI/AAAAAAAAAiY/vAe8OMYgKAI/s64/photo.jpg",
      "userId": "01858859973370858112"
     },
     "user_tz": -480
    },
    "id": "INmMYyBD51LF",
    "outputId": "1fd0c4a6-1991-4fb1-d4b5-adf3a961a596"
   },
   "outputs": [
    {
     "data": {
      "text/plain": [
       "dict_keys(['Parsing Warnings', 'DOS_HEADER', 'NT_HEADERS', 'FILE_HEADER', 'Flags', 'OPTIONAL_HEADER', 'DllCharacteristics', 'PE Sections', 'Directories', 'Imported symbols'])"
      ]
     },
     "execution_count": 26,
     "metadata": {
      "tags": []
     },
     "output_type": "execute_result"
    }
   ],
   "source": [
    "first_dict.keys()"
   ]
  },
  {
   "cell_type": "markdown",
   "metadata": {
    "colab_type": "text",
    "id": "wO_ubYtCWcer"
   },
   "source": [
    "### Extract more information\n",
    "\n",
    "Now its your turn.\n",
    "Try to buld a feature table for these 40 malwares.\n",
    "Here is an example for api call."
   ]
  },
  {
   "cell_type": "code",
   "execution_count": null,
   "metadata": {
    "colab": {},
    "colab_type": "code",
    "id": "fm8pQyFrWuB6"
   },
   "outputs": [],
   "source": [
    "api_set = set()\n",
    "for key in pef_dumpdicts.keys(): # iter 40 malwares\n",
    "    pef_dump_dict = pef_dumpdicts[key]\n",
    "    for records in pef_dump_dict['Imported symbols']:\n",
    "        for record in records:\n",
    "            if 'Name' in record:\n",
    "                if isinstance(record['Name'], bytes):\n",
    "                    name = record['Name'].decode(\"ascii\")\n",
    "                    api_set.add(name)\n",
    "\n",
    "api_list = list(api_set) "
   ]
  },
  {
   "cell_type": "code",
   "execution_count": null,
   "metadata": {
    "colab": {
     "base_uri": "https://localhost:8080/",
     "height": 136
    },
    "colab_type": "code",
    "executionInfo": {
     "elapsed": 1403,
     "status": "ok",
     "timestamp": 1591014552723,
     "user": {
      "displayName": "Jason Hung",
      "photoUrl": "https://lh6.googleusercontent.com/-ZoLzTda4_5w/AAAAAAAAAAI/AAAAAAAAAiY/vAe8OMYgKAI/s64/photo.jpg",
      "userId": "01858859973370858112"
     },
     "user_tz": -480
    },
    "id": "V_mcz6G5jRlZ",
    "outputId": "d101b173-26c8-461b-d4fa-4cc9e0cd7a00"
   },
   "outputs": [
    {
     "data": {
      "text/plain": [
       "['ExitProcess',\n",
       " 'wsprintfA',\n",
       " 'LoadLibraryA',\n",
       " 'rand',\n",
       " 'GetProcAddress',\n",
       " 'RegCloseKey',\n",
       " 'InternetOpenA']"
      ]
     },
     "execution_count": 19,
     "metadata": {
      "tags": []
     },
     "output_type": "execute_result"
    }
   ],
   "source": [
    "api_list"
   ]
  },
  {
   "cell_type": "markdown",
   "metadata": {
    "colab_type": "text",
    "id": "8PpRf7Jnj4UI"
   },
   "source": [
    "Now you find an interesting thing, that all 40 malwares calls these 7 APIs. So it is impossible to distinguish them by using these 7 APIs. So please try to use some other features."
   ]
  },
  {
   "cell_type": "markdown",
   "metadata": {
    "colab_type": "text",
    "id": "fi5esIstkNBe"
   },
   "source": [
    "Hint #1: these malwares are packed. UPX may unpacked them.\n",
    "\n",
    "Hint #2: these 40 malware samples are from 4 families. Can you classify or cluster them into 4 groups?"
   ]
  },
  {
   "cell_type": "markdown",
   "metadata": {
    "colab_type": "text",
    "id": "ET51zJ2MkLKo"
   },
   "source": [
    "### Your solution\n",
    "\n",
    "- PE Section\n",
    "  - Entropy"
   ]
  },
  {
   "cell_type": "code",
   "execution_count": null,
   "metadata": {
    "colab": {
     "base_uri": "https://localhost:8080/",
     "height": 54
    },
    "colab_type": "code",
    "executionInfo": {
     "elapsed": 23973,
     "status": "ok",
     "timestamp": 1586769570717,
     "user": {
      "displayName": "Jason Hung",
      "photoUrl": "https://lh6.googleusercontent.com/-ZoLzTda4_5w/AAAAAAAAAAI/AAAAAAAAAiY/vAe8OMYgKAI/s64/photo.jpg",
      "userId": "01858859973370858112"
     },
     "user_tz": -480
    },
    "id": "l4cD0D1UW1xP",
    "outputId": "c97361ef-a8b1-4d0e-d1fe-4adeffd9bd59"
   },
   "outputs": [
    {
     "data": {
      "text/plain": [
       "dict_keys(['07edeebc14b053fffdfb4dcc08959360', '0cfab9961285ab6e04f449c6d09cec37', '2c1e90810ca30865cbf4440118c4aa0f', '412c8d4d6afc88391e6dad508106681a', '656f628856a62f1dc14748bff4cee2e5', '8595c554539a172534c95222260650e5', '88b666fd4ef1c21f4051ad3f859ee5bd', '8aa66c2a430c3545c542e8419de13385', 'e776d8d8d187bdb68f41dc9ccfc86444', 'ed1304342c5794cb0a55840253793b45', '2650e58a609438ba18706f539b49a6af', '2a5932a800123709eff21dbd2310e090', '4271ba51876b1e931dd55b2ccff25789', '52cae62ada8b02adae128e35686cbc16', '774b71a232568ca7ea09c0a26b82f8e5', '7b57508defc0934c69b98544b4bac185', '8081b6b58cc3372ad62a5d8b6ce09c0b', '8e6d8d46e4a7482b9475e6c5b211dc61', 'b4e89348aa9b635b8edce746f8231303', 'e0ad769d1bd2b9b6444796f99b52a43f', '0c6e68a34804df907df26d7139b1f052', '0e751a5b6db31895c283ddd9757477de', '0f74a58af435599ec94eff2b72d5e55e', '1d0ce31c6d7129a74e2921e8d161c752', '2cceeae738cae520544e9d9fda9ca30e', '2ea5285f04bc9a0b3008165779a382ec', '2f45c7132f623cd7caea6d7965d53a0f', '3b569cd1c63b83446420dd798a8622b7', '3f07e530430d1d450bfeaf0a595109b1', '4aa9b2104ac7c7602c4258a0f7ce2b44', '17af47cdfd7c327ebfc2ab21221fee03', '1f6bcbaaefaec970de211d47c7c57854', '573054f5a9b74edc86ede736876bcb57', '60c4a8055b75c25d60932d1e6c34e05a', '6a3943016197db960f00e27f1b154093', '6db56b93657419ea946b2db489d88908', '91e8fe3c2623eaea8ec8027564a857d5', 'bc28e599e69d23edcb60b0dd5b428f6f', 'd32c82e4632a1e6656b05678ae5560fd', 'ec34196b53dd111997b88eaa2920b7f4'])"
      ]
     },
     "execution_count": 19,
     "metadata": {
      "tags": []
     },
     "output_type": "execute_result"
    }
   ],
   "source": [
    "pef_dumpdicts.keys()"
   ]
  },
  {
   "cell_type": "code",
   "execution_count": null,
   "metadata": {
    "colab": {},
    "colab_type": "code",
    "id": "9qV324-_3r7Y"
   },
   "outputs": [],
   "source": [
    "import re\n",
    "pef_dump_dict = pef_dumpdicts['07edeebc14b053fffdfb4dcc08959360']\n",
    "dt = pef_dump_dict['FILE_HEADER']['TimeDateStamp']['Value']\n",
    "\n",
    "if re.match('\\[.*\\]', dt):\n",
    "  t = re.match('\\[.*\\]', dt).group(0)"
   ]
  },
  {
   "cell_type": "code",
   "execution_count": null,
   "metadata": {
    "colab": {
     "base_uri": "https://localhost:8080/",
     "height": 544
    },
    "colab_type": "code",
    "executionInfo": {
     "elapsed": 734,
     "status": "ok",
     "timestamp": 1586790465739,
     "user": {
      "displayName": "Jason Hung",
      "photoUrl": "https://lh6.googleusercontent.com/-ZoLzTda4_5w/AAAAAAAAAAI/AAAAAAAAAiY/vAe8OMYgKAI/s64/photo.jpg",
      "userId": "01858859973370858112"
     },
     "user_tz": -480
    },
    "id": "_7v-ShAV-Gvv",
    "outputId": "4f707705-2c49-4a82-87e8-72cdce4d61a2"
   },
   "outputs": [
    {
     "data": {
      "text/plain": [
       "{'AddressOfEntryPoint': {'FileOffset': 256, 'Offset': 16, 'Value': 33280},\n",
       " 'BaseOfCode': {'FileOffset': 260, 'Offset': 20, 'Value': 24576},\n",
       " 'BaseOfData': {'FileOffset': 264, 'Offset': 24, 'Value': 32768},\n",
       " 'CheckSum': {'FileOffset': 304, 'Offset': 64, 'Value': 195901},\n",
       " 'DllCharacteristics': {'FileOffset': 310, 'Offset': 70, 'Value': 0},\n",
       " 'FileAlignment': {'FileOffset': 276, 'Offset': 36, 'Value': 512},\n",
       " 'ImageBase': {'FileOffset': 268, 'Offset': 28, 'Value': 826408960},\n",
       " 'LoaderFlags': {'FileOffset': 328, 'Offset': 88, 'Value': 0},\n",
       " 'Magic': {'FileOffset': 240, 'Offset': 0, 'Value': 267},\n",
       " 'MajorImageVersion': {'FileOffset': 284, 'Offset': 44, 'Value': 0},\n",
       " 'MajorLinkerVersion': {'FileOffset': 242, 'Offset': 2, 'Value': 6},\n",
       " 'MajorOperatingSystemVersion': {'FileOffset': 280, 'Offset': 40, 'Value': 4},\n",
       " 'MajorSubsystemVersion': {'FileOffset': 288, 'Offset': 48, 'Value': 4},\n",
       " 'MinorImageVersion': {'FileOffset': 286, 'Offset': 46, 'Value': 0},\n",
       " 'MinorLinkerVersion': {'FileOffset': 243, 'Offset': 3, 'Value': 0},\n",
       " 'MinorOperatingSystemVersion': {'FileOffset': 282, 'Offset': 42, 'Value': 0},\n",
       " 'MinorSubsystemVersion': {'FileOffset': 290, 'Offset': 50, 'Value': 0},\n",
       " 'NumberOfRvaAndSizes': {'FileOffset': 332, 'Offset': 92, 'Value': 16},\n",
       " 'Reserved1': {'FileOffset': 292, 'Offset': 52, 'Value': 0},\n",
       " 'SectionAlignment': {'FileOffset': 272, 'Offset': 32, 'Value': 4096},\n",
       " 'SizeOfCode': {'FileOffset': 244, 'Offset': 4, 'Value': 8192},\n",
       " 'SizeOfHeaders': {'FileOffset': 300, 'Offset': 60, 'Value': 4096},\n",
       " 'SizeOfHeapCommit': {'FileOffset': 324, 'Offset': 84, 'Value': 4096},\n",
       " 'SizeOfHeapReserve': {'FileOffset': 320, 'Offset': 80, 'Value': 1048576},\n",
       " 'SizeOfImage': {'FileOffset': 296, 'Offset': 56, 'Value': 40960},\n",
       " 'SizeOfInitializedData': {'FileOffset': 248, 'Offset': 8, 'Value': 4096},\n",
       " 'SizeOfStackCommit': {'FileOffset': 316, 'Offset': 76, 'Value': 4096},\n",
       " 'SizeOfStackReserve': {'FileOffset': 312, 'Offset': 72, 'Value': 1048576},\n",
       " 'SizeOfUninitializedData': {'FileOffset': 252, 'Offset': 12, 'Value': 20480},\n",
       " 'Structure': 'IMAGE_OPTIONAL_HEADER',\n",
       " 'Subsystem': {'FileOffset': 308, 'Offset': 68, 'Value': 2}}"
      ]
     },
     "execution_count": 75,
     "metadata": {
      "tags": []
     },
     "output_type": "execute_result"
    }
   ],
   "source": [
    "pef_dumpdicts['07edeebc14b053fffdfb4dcc08959360']['OPTIONAL_HEADER']"
   ]
  },
  {
   "cell_type": "code",
   "execution_count": null,
   "metadata": {
    "colab": {},
    "colab_type": "code",
    "id": "wkGuUjI8Xdwz"
   },
   "outputs": [],
   "source": [
    "from datetime import datetime\n",
    "import re \n",
    "\n",
    "feature_list = []\n",
    "for key in pef_dumpdicts.keys():\n",
    "  pef_dump_dict = pef_dumpdicts[key]\n",
    "\n",
    "  # FILE HEADER\n",
    "  # TimeDateStamp\n",
    "  try:\n",
    "    dt = pef_dump_dict['FILE_HEADER']['TimeDateStamp']['Value']\n",
    "    dt = re.sub('\\[|\\]', '', re.search('\\[.*\\]', dt).group(0))\n",
    "    dt = datetime.strptime(dt, '%a %b %d %H:%M:%S %Y %Z').timestamp()\n",
    "  except:\n",
    "    print('Time Stamp format Error')\n",
    "\n",
    "  # OPTIONAL HEADER\n",
    "  # ib = pef_dump_dict['OPTIONAL_HEADER']['ImageBase']['Value']\n",
    "  checksum = pef_dump_dict['OPTIONAL_HEADER']['CheckSum']['Value']\n",
    "  aoep = pef_dump_dict['OPTIONAL_HEADER']['AddressOfEntryPoint']['Value']\n",
    "\n",
    "  # PE Sections \n",
    "  # max Entropy\n",
    "  entropy = []\n",
    "  for pes in pef_dump_dict['PE Sections']:\n",
    "    entropy.append(pes['Entropy'])\n",
    "\n",
    "  data = {\n",
    "      'key': key,\n",
    "      'datetime': dt, \n",
    "      #'ImageBase': ib,\n",
    "      'checksum': checksum,\n",
    "      'EntryPointAddress': aoep,\n",
    "      'entropy': max(entropy),\n",
    "  }\n",
    "  feature_list.append(data)"
   ]
  },
  {
   "cell_type": "code",
   "execution_count": null,
   "metadata": {
    "colab": {
     "base_uri": "https://localhost:8080/",
     "height": 1000
    },
    "colab_type": "code",
    "executionInfo": {
     "elapsed": 1201,
     "status": "ok",
     "timestamp": 1586791709829,
     "user": {
      "displayName": "Jason Hung",
      "photoUrl": "https://lh6.googleusercontent.com/-ZoLzTda4_5w/AAAAAAAAAAI/AAAAAAAAAiY/vAe8OMYgKAI/s64/photo.jpg",
      "userId": "01858859973370858112"
     },
     "user_tz": -480
    },
    "id": "nGzY7swXTpR9",
    "outputId": "f4955fb6-082f-4e8a-c722-55ad9bf17cd2"
   },
   "outputs": [
    {
     "data": {
      "text/html": [
       "<div>\n",
       "<style scoped>\n",
       "    .dataframe tbody tr th:only-of-type {\n",
       "        vertical-align: middle;\n",
       "    }\n",
       "\n",
       "    .dataframe tbody tr th {\n",
       "        vertical-align: top;\n",
       "    }\n",
       "\n",
       "    .dataframe thead th {\n",
       "        text-align: right;\n",
       "    }\n",
       "</style>\n",
       "<table border=\"1\" class=\"dataframe\">\n",
       "  <thead>\n",
       "    <tr style=\"text-align: right;\">\n",
       "      <th></th>\n",
       "      <th>key</th>\n",
       "      <th>datetime</th>\n",
       "      <th>checksum</th>\n",
       "      <th>EntryPointAddress</th>\n",
       "      <th>entropy</th>\n",
       "    </tr>\n",
       "  </thead>\n",
       "  <tbody>\n",
       "    <tr>\n",
       "      <th>0</th>\n",
       "      <td>07edeebc14b053fffdfb4dcc08959360</td>\n",
       "      <td>1.088239e+09</td>\n",
       "      <td>195901</td>\n",
       "      <td>33280</td>\n",
       "      <td>7.902853</td>\n",
       "    </tr>\n",
       "    <tr>\n",
       "      <th>1</th>\n",
       "      <td>0cfab9961285ab6e04f449c6d09cec37</td>\n",
       "      <td>1.088239e+09</td>\n",
       "      <td>195901</td>\n",
       "      <td>33280</td>\n",
       "      <td>7.902853</td>\n",
       "    </tr>\n",
       "    <tr>\n",
       "      <th>2</th>\n",
       "      <td>2c1e90810ca30865cbf4440118c4aa0f</td>\n",
       "      <td>1.088239e+09</td>\n",
       "      <td>195901</td>\n",
       "      <td>33280</td>\n",
       "      <td>7.902853</td>\n",
       "    </tr>\n",
       "    <tr>\n",
       "      <th>3</th>\n",
       "      <td>412c8d4d6afc88391e6dad508106681a</td>\n",
       "      <td>1.088239e+09</td>\n",
       "      <td>195901</td>\n",
       "      <td>33280</td>\n",
       "      <td>7.902853</td>\n",
       "    </tr>\n",
       "    <tr>\n",
       "      <th>4</th>\n",
       "      <td>656f628856a62f1dc14748bff4cee2e5</td>\n",
       "      <td>1.088239e+09</td>\n",
       "      <td>195901</td>\n",
       "      <td>33280</td>\n",
       "      <td>7.902853</td>\n",
       "    </tr>\n",
       "    <tr>\n",
       "      <th>5</th>\n",
       "      <td>8595c554539a172534c95222260650e5</td>\n",
       "      <td>1.088239e+09</td>\n",
       "      <td>195901</td>\n",
       "      <td>33280</td>\n",
       "      <td>7.902853</td>\n",
       "    </tr>\n",
       "    <tr>\n",
       "      <th>6</th>\n",
       "      <td>88b666fd4ef1c21f4051ad3f859ee5bd</td>\n",
       "      <td>1.088239e+09</td>\n",
       "      <td>195901</td>\n",
       "      <td>33280</td>\n",
       "      <td>7.902853</td>\n",
       "    </tr>\n",
       "    <tr>\n",
       "      <th>7</th>\n",
       "      <td>8aa66c2a430c3545c542e8419de13385</td>\n",
       "      <td>1.088239e+09</td>\n",
       "      <td>195901</td>\n",
       "      <td>33280</td>\n",
       "      <td>7.902853</td>\n",
       "    </tr>\n",
       "    <tr>\n",
       "      <th>8</th>\n",
       "      <td>e776d8d8d187bdb68f41dc9ccfc86444</td>\n",
       "      <td>1.088239e+09</td>\n",
       "      <td>195901</td>\n",
       "      <td>33280</td>\n",
       "      <td>7.902853</td>\n",
       "    </tr>\n",
       "    <tr>\n",
       "      <th>9</th>\n",
       "      <td>ed1304342c5794cb0a55840253793b45</td>\n",
       "      <td>1.088239e+09</td>\n",
       "      <td>195901</td>\n",
       "      <td>33280</td>\n",
       "      <td>7.902853</td>\n",
       "    </tr>\n",
       "    <tr>\n",
       "      <th>10</th>\n",
       "      <td>2650e58a609438ba18706f539b49a6af</td>\n",
       "      <td>1.087921e+09</td>\n",
       "      <td>0</td>\n",
       "      <td>40960</td>\n",
       "      <td>7.752078</td>\n",
       "    </tr>\n",
       "    <tr>\n",
       "      <th>11</th>\n",
       "      <td>2a5932a800123709eff21dbd2310e090</td>\n",
       "      <td>1.087921e+09</td>\n",
       "      <td>0</td>\n",
       "      <td>40960</td>\n",
       "      <td>7.752078</td>\n",
       "    </tr>\n",
       "    <tr>\n",
       "      <th>12</th>\n",
       "      <td>4271ba51876b1e931dd55b2ccff25789</td>\n",
       "      <td>1.087921e+09</td>\n",
       "      <td>0</td>\n",
       "      <td>40960</td>\n",
       "      <td>7.752078</td>\n",
       "    </tr>\n",
       "    <tr>\n",
       "      <th>13</th>\n",
       "      <td>52cae62ada8b02adae128e35686cbc16</td>\n",
       "      <td>1.087921e+09</td>\n",
       "      <td>0</td>\n",
       "      <td>40960</td>\n",
       "      <td>7.752078</td>\n",
       "    </tr>\n",
       "    <tr>\n",
       "      <th>14</th>\n",
       "      <td>774b71a232568ca7ea09c0a26b82f8e5</td>\n",
       "      <td>1.087921e+09</td>\n",
       "      <td>0</td>\n",
       "      <td>40960</td>\n",
       "      <td>7.752078</td>\n",
       "    </tr>\n",
       "    <tr>\n",
       "      <th>15</th>\n",
       "      <td>7b57508defc0934c69b98544b4bac185</td>\n",
       "      <td>1.087921e+09</td>\n",
       "      <td>0</td>\n",
       "      <td>110592</td>\n",
       "      <td>7.752078</td>\n",
       "    </tr>\n",
       "    <tr>\n",
       "      <th>16</th>\n",
       "      <td>8081b6b58cc3372ad62a5d8b6ce09c0b</td>\n",
       "      <td>1.087921e+09</td>\n",
       "      <td>0</td>\n",
       "      <td>40960</td>\n",
       "      <td>7.752078</td>\n",
       "    </tr>\n",
       "    <tr>\n",
       "      <th>17</th>\n",
       "      <td>8e6d8d46e4a7482b9475e6c5b211dc61</td>\n",
       "      <td>1.087921e+09</td>\n",
       "      <td>0</td>\n",
       "      <td>40960</td>\n",
       "      <td>7.752078</td>\n",
       "    </tr>\n",
       "    <tr>\n",
       "      <th>18</th>\n",
       "      <td>b4e89348aa9b635b8edce746f8231303</td>\n",
       "      <td>1.087921e+09</td>\n",
       "      <td>0</td>\n",
       "      <td>40960</td>\n",
       "      <td>7.752078</td>\n",
       "    </tr>\n",
       "    <tr>\n",
       "      <th>19</th>\n",
       "      <td>e0ad769d1bd2b9b6444796f99b52a43f</td>\n",
       "      <td>1.087921e+09</td>\n",
       "      <td>0</td>\n",
       "      <td>40960</td>\n",
       "      <td>7.752078</td>\n",
       "    </tr>\n",
       "    <tr>\n",
       "      <th>20</th>\n",
       "      <td>0c6e68a34804df907df26d7139b1f052</td>\n",
       "      <td>1.087921e+09</td>\n",
       "      <td>0</td>\n",
       "      <td>40960</td>\n",
       "      <td>7.752078</td>\n",
       "    </tr>\n",
       "    <tr>\n",
       "      <th>21</th>\n",
       "      <td>0e751a5b6db31895c283ddd9757477de</td>\n",
       "      <td>1.087921e+09</td>\n",
       "      <td>0</td>\n",
       "      <td>40960</td>\n",
       "      <td>7.752078</td>\n",
       "    </tr>\n",
       "    <tr>\n",
       "      <th>22</th>\n",
       "      <td>0f74a58af435599ec94eff2b72d5e55e</td>\n",
       "      <td>1.087921e+09</td>\n",
       "      <td>0</td>\n",
       "      <td>40960</td>\n",
       "      <td>7.752078</td>\n",
       "    </tr>\n",
       "    <tr>\n",
       "      <th>23</th>\n",
       "      <td>1d0ce31c6d7129a74e2921e8d161c752</td>\n",
       "      <td>1.087921e+09</td>\n",
       "      <td>0</td>\n",
       "      <td>40960</td>\n",
       "      <td>7.752078</td>\n",
       "    </tr>\n",
       "    <tr>\n",
       "      <th>24</th>\n",
       "      <td>2cceeae738cae520544e9d9fda9ca30e</td>\n",
       "      <td>1.087921e+09</td>\n",
       "      <td>0</td>\n",
       "      <td>40960</td>\n",
       "      <td>7.752078</td>\n",
       "    </tr>\n",
       "    <tr>\n",
       "      <th>25</th>\n",
       "      <td>2ea5285f04bc9a0b3008165779a382ec</td>\n",
       "      <td>1.087921e+09</td>\n",
       "      <td>0</td>\n",
       "      <td>40960</td>\n",
       "      <td>7.752078</td>\n",
       "    </tr>\n",
       "    <tr>\n",
       "      <th>26</th>\n",
       "      <td>2f45c7132f623cd7caea6d7965d53a0f</td>\n",
       "      <td>1.087921e+09</td>\n",
       "      <td>0</td>\n",
       "      <td>40960</td>\n",
       "      <td>7.752078</td>\n",
       "    </tr>\n",
       "    <tr>\n",
       "      <th>27</th>\n",
       "      <td>3b569cd1c63b83446420dd798a8622b7</td>\n",
       "      <td>1.087921e+09</td>\n",
       "      <td>0</td>\n",
       "      <td>40960</td>\n",
       "      <td>7.752078</td>\n",
       "    </tr>\n",
       "    <tr>\n",
       "      <th>28</th>\n",
       "      <td>3f07e530430d1d450bfeaf0a595109b1</td>\n",
       "      <td>1.087921e+09</td>\n",
       "      <td>0</td>\n",
       "      <td>40960</td>\n",
       "      <td>7.752078</td>\n",
       "    </tr>\n",
       "    <tr>\n",
       "      <th>29</th>\n",
       "      <td>4aa9b2104ac7c7602c4258a0f7ce2b44</td>\n",
       "      <td>1.087921e+09</td>\n",
       "      <td>0</td>\n",
       "      <td>40960</td>\n",
       "      <td>7.752078</td>\n",
       "    </tr>\n",
       "    <tr>\n",
       "      <th>30</th>\n",
       "      <td>17af47cdfd7c327ebfc2ab21221fee03</td>\n",
       "      <td>1.087921e+09</td>\n",
       "      <td>0</td>\n",
       "      <td>33280</td>\n",
       "      <td>7.752078</td>\n",
       "    </tr>\n",
       "    <tr>\n",
       "      <th>31</th>\n",
       "      <td>1f6bcbaaefaec970de211d47c7c57854</td>\n",
       "      <td>1.087921e+09</td>\n",
       "      <td>0</td>\n",
       "      <td>33280</td>\n",
       "      <td>7.752078</td>\n",
       "    </tr>\n",
       "    <tr>\n",
       "      <th>32</th>\n",
       "      <td>573054f5a9b74edc86ede736876bcb57</td>\n",
       "      <td>1.087921e+09</td>\n",
       "      <td>0</td>\n",
       "      <td>33280</td>\n",
       "      <td>7.752078</td>\n",
       "    </tr>\n",
       "    <tr>\n",
       "      <th>33</th>\n",
       "      <td>60c4a8055b75c25d60932d1e6c34e05a</td>\n",
       "      <td>1.087921e+09</td>\n",
       "      <td>0</td>\n",
       "      <td>33280</td>\n",
       "      <td>7.752078</td>\n",
       "    </tr>\n",
       "    <tr>\n",
       "      <th>34</th>\n",
       "      <td>6a3943016197db960f00e27f1b154093</td>\n",
       "      <td>1.087921e+09</td>\n",
       "      <td>0</td>\n",
       "      <td>40960</td>\n",
       "      <td>7.752078</td>\n",
       "    </tr>\n",
       "    <tr>\n",
       "      <th>35</th>\n",
       "      <td>6db56b93657419ea946b2db489d88908</td>\n",
       "      <td>1.088454e+09</td>\n",
       "      <td>0</td>\n",
       "      <td>33280</td>\n",
       "      <td>7.973480</td>\n",
       "    </tr>\n",
       "    <tr>\n",
       "      <th>36</th>\n",
       "      <td>91e8fe3c2623eaea8ec8027564a857d5</td>\n",
       "      <td>1.087921e+09</td>\n",
       "      <td>0</td>\n",
       "      <td>33280</td>\n",
       "      <td>7.752078</td>\n",
       "    </tr>\n",
       "    <tr>\n",
       "      <th>37</th>\n",
       "      <td>bc28e599e69d23edcb60b0dd5b428f6f</td>\n",
       "      <td>1.087921e+09</td>\n",
       "      <td>0</td>\n",
       "      <td>33280</td>\n",
       "      <td>7.972945</td>\n",
       "    </tr>\n",
       "    <tr>\n",
       "      <th>38</th>\n",
       "      <td>d32c82e4632a1e6656b05678ae5560fd</td>\n",
       "      <td>1.087921e+09</td>\n",
       "      <td>0</td>\n",
       "      <td>33280</td>\n",
       "      <td>7.752078</td>\n",
       "    </tr>\n",
       "    <tr>\n",
       "      <th>39</th>\n",
       "      <td>ec34196b53dd111997b88eaa2920b7f4</td>\n",
       "      <td>1.087921e+09</td>\n",
       "      <td>0</td>\n",
       "      <td>33280</td>\n",
       "      <td>7.752078</td>\n",
       "    </tr>\n",
       "  </tbody>\n",
       "</table>\n",
       "</div>"
      ],
      "text/plain": [
       "                                 key      datetime  ...  EntryPointAddress   entropy\n",
       "0   07edeebc14b053fffdfb4dcc08959360  1.088239e+09  ...              33280  7.902853\n",
       "1   0cfab9961285ab6e04f449c6d09cec37  1.088239e+09  ...              33280  7.902853\n",
       "2   2c1e90810ca30865cbf4440118c4aa0f  1.088239e+09  ...              33280  7.902853\n",
       "3   412c8d4d6afc88391e6dad508106681a  1.088239e+09  ...              33280  7.902853\n",
       "4   656f628856a62f1dc14748bff4cee2e5  1.088239e+09  ...              33280  7.902853\n",
       "5   8595c554539a172534c95222260650e5  1.088239e+09  ...              33280  7.902853\n",
       "6   88b666fd4ef1c21f4051ad3f859ee5bd  1.088239e+09  ...              33280  7.902853\n",
       "7   8aa66c2a430c3545c542e8419de13385  1.088239e+09  ...              33280  7.902853\n",
       "8   e776d8d8d187bdb68f41dc9ccfc86444  1.088239e+09  ...              33280  7.902853\n",
       "9   ed1304342c5794cb0a55840253793b45  1.088239e+09  ...              33280  7.902853\n",
       "10  2650e58a609438ba18706f539b49a6af  1.087921e+09  ...              40960  7.752078\n",
       "11  2a5932a800123709eff21dbd2310e090  1.087921e+09  ...              40960  7.752078\n",
       "12  4271ba51876b1e931dd55b2ccff25789  1.087921e+09  ...              40960  7.752078\n",
       "13  52cae62ada8b02adae128e35686cbc16  1.087921e+09  ...              40960  7.752078\n",
       "14  774b71a232568ca7ea09c0a26b82f8e5  1.087921e+09  ...              40960  7.752078\n",
       "15  7b57508defc0934c69b98544b4bac185  1.087921e+09  ...             110592  7.752078\n",
       "16  8081b6b58cc3372ad62a5d8b6ce09c0b  1.087921e+09  ...              40960  7.752078\n",
       "17  8e6d8d46e4a7482b9475e6c5b211dc61  1.087921e+09  ...              40960  7.752078\n",
       "18  b4e89348aa9b635b8edce746f8231303  1.087921e+09  ...              40960  7.752078\n",
       "19  e0ad769d1bd2b9b6444796f99b52a43f  1.087921e+09  ...              40960  7.752078\n",
       "20  0c6e68a34804df907df26d7139b1f052  1.087921e+09  ...              40960  7.752078\n",
       "21  0e751a5b6db31895c283ddd9757477de  1.087921e+09  ...              40960  7.752078\n",
       "22  0f74a58af435599ec94eff2b72d5e55e  1.087921e+09  ...              40960  7.752078\n",
       "23  1d0ce31c6d7129a74e2921e8d161c752  1.087921e+09  ...              40960  7.752078\n",
       "24  2cceeae738cae520544e9d9fda9ca30e  1.087921e+09  ...              40960  7.752078\n",
       "25  2ea5285f04bc9a0b3008165779a382ec  1.087921e+09  ...              40960  7.752078\n",
       "26  2f45c7132f623cd7caea6d7965d53a0f  1.087921e+09  ...              40960  7.752078\n",
       "27  3b569cd1c63b83446420dd798a8622b7  1.087921e+09  ...              40960  7.752078\n",
       "28  3f07e530430d1d450bfeaf0a595109b1  1.087921e+09  ...              40960  7.752078\n",
       "29  4aa9b2104ac7c7602c4258a0f7ce2b44  1.087921e+09  ...              40960  7.752078\n",
       "30  17af47cdfd7c327ebfc2ab21221fee03  1.087921e+09  ...              33280  7.752078\n",
       "31  1f6bcbaaefaec970de211d47c7c57854  1.087921e+09  ...              33280  7.752078\n",
       "32  573054f5a9b74edc86ede736876bcb57  1.087921e+09  ...              33280  7.752078\n",
       "33  60c4a8055b75c25d60932d1e6c34e05a  1.087921e+09  ...              33280  7.752078\n",
       "34  6a3943016197db960f00e27f1b154093  1.087921e+09  ...              40960  7.752078\n",
       "35  6db56b93657419ea946b2db489d88908  1.088454e+09  ...              33280  7.973480\n",
       "36  91e8fe3c2623eaea8ec8027564a857d5  1.087921e+09  ...              33280  7.752078\n",
       "37  bc28e599e69d23edcb60b0dd5b428f6f  1.087921e+09  ...              33280  7.972945\n",
       "38  d32c82e4632a1e6656b05678ae5560fd  1.087921e+09  ...              33280  7.752078\n",
       "39  ec34196b53dd111997b88eaa2920b7f4  1.087921e+09  ...              33280  7.752078\n",
       "\n",
       "[40 rows x 5 columns]"
      ]
     },
     "execution_count": 109,
     "metadata": {
      "tags": []
     },
     "output_type": "execute_result"
    }
   ],
   "source": [
    "import pandas as pd\n",
    "\n",
    "df = pd.DataFrame(feature_list)\n",
    "df"
   ]
  },
  {
   "cell_type": "markdown",
   "metadata": {
    "colab_type": "text",
    "id": "_sXJH4JgI4Qa"
   },
   "source": [
    "note:\n",
    "\n",
    "只有 6db56b93657419ea946b2db489d88908 的 ImageBase 是 826474496"
   ]
  },
  {
   "cell_type": "markdown",
   "metadata": {
    "colab_type": "text",
    "id": "6evtI4_IXgWm"
   },
   "source": [
    "## Clustering\n"
   ]
  },
  {
   "cell_type": "code",
   "execution_count": null,
   "metadata": {
    "colab": {
     "base_uri": "https://localhost:8080/",
     "height": 513
    },
    "colab_type": "code",
    "executionInfo": {
     "elapsed": 1840,
     "status": "ok",
     "timestamp": 1586792248010,
     "user": {
      "displayName": "Jason Hung",
      "photoUrl": "https://lh6.googleusercontent.com/-ZoLzTda4_5w/AAAAAAAAAAI/AAAAAAAAAiY/vAe8OMYgKAI/s64/photo.jpg",
      "userId": "01858859973370858112"
     },
     "user_tz": -480
    },
    "id": "3TCyACzbyXP1",
    "outputId": "c3497640-7d15-453a-88d1-996a43a5d9f2"
   },
   "outputs": [
    {
     "data": {
      "image/png": "[encoded data removed]",
      "text/plain": [
       "<Figure size 720x576 with 1 Axes>"
      ]
     },
     "metadata": {
      "needs_background": "light",
      "tags": []
     },
     "output_type": "display_data"
    }
   ],
   "source": [
    "from scipy.cluster import hierarchy\n",
    "from scipy.spatial.distance import pdist\n",
    "import matplotlib.pyplot as plt\n",
    "\n",
    "X = df[['datetime', 'checksum', 'EntryPointAddress', 'entropy']]\n",
    "distance_mat = pdist(X)\n",
    "hc = hierarchy.linkage(X, 'weighted')\n",
    "plt.figure(figsize=(10,8))\n",
    "plt.title('Hierarchical Clustering Dendrogram')\n",
    "plt.xlabel('Malware')\n",
    "plt.ylabel('distance')\n",
    "\n",
    "hierarchy.dendrogram(hc, truncate_mode='lastp', p=150,leaf_rotation=90.)\n",
    "plt.show()"
   ]
  },
  {
   "cell_type": "code",
   "execution_count": null,
   "metadata": {
    "colab": {
     "base_uri": "https://localhost:8080/",
     "height": 68
    },
    "colab_type": "code",
    "executionInfo": {
     "elapsed": 1119,
     "status": "ok",
     "timestamp": 1586792214637,
     "user": {
      "displayName": "Jason Hung",
      "photoUrl": "https://lh6.googleusercontent.com/-ZoLzTda4_5w/AAAAAAAAAAI/AAAAAAAAAiY/vAe8OMYgKAI/s64/photo.jpg",
      "userId": "01858859973370858112"
     },
     "user_tz": -480
    },
    "id": "Pxz9Df3ZIjGj",
    "outputId": "2c3d105a-0d99-45a1-91ae-908d7ab8757b"
   },
   "outputs": [
    {
     "name": "stdout",
     "output_type": "stream",
     "text": [
      "Result of Hierarchy clustering：\n",
      " [0 0 0 0 0 0 0 0 0 0 1 1 1 1 1 2 1 1 1 1 1 1 1 1 1 1 1 1 1 1 1 1 1 1 1 3 1\n",
      " 1 1 1]\n"
     ]
    }
   ],
   "source": [
    "cutree = hierarchy.cut_tree(hc, n_clusters=4)\n",
    "print('Result of Hierarchy clustering：\\n', cutree.reshape(1, -1)[0])"
   ]
  },
  {
   "cell_type": "markdown",
   "metadata": {
    "colab_type": "text",
    "id": "RwOAYyBC3dwI"
   },
   "source": [
    "## Autoencoder\n"
   ]
  },
  {
   "cell_type": "code",
   "execution_count": null,
   "metadata": {
    "colab": {},
    "colab_type": "code",
    "id": "ZzAYuZrzIfbb"
   },
   "outputs": [],
   "source": []
  }
 ],
 "metadata": {
  "colab": {
   "collapsed_sections": [],
   "name": "108356021_洪御哲_HW09_Autoencoder.ipynb",
   "provenance": [
    {
     "file_id": "1qachDAkRGw9lyROUerUFrHcHl_U1FhjH",
     "timestamp": 1586280629867
    }
   ],
   "toc_visible": true
  },
  "kernelspec": {
   "display_name": "Python 3",
   "language": "python",
   "name": "python3"
  },
  "language_info": {
   "codemirror_mode": {
    "name": "ipython",
    "version": 3
   },
   "file_extension": ".py",
   "mimetype": "text/x-python",
   "name": "python",
   "nbconvert_exporter": "python",
   "pygments_lexer": "ipython3",
   "version": "3.7.3"
  }
 },
 "nbformat": 4,
 "nbformat_minor": 4
}
